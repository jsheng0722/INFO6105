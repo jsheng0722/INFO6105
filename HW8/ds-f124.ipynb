{
 "cells": [
  {
   "cell_type": "markdown",
   "id": "efc52af2",
   "metadata": {},
   "source": [
    "<div style=\"text-align: right\">INFO 6105 Data Sci Engineering Methods and Tools, Week 5 Homework</div>\n",
    "<div style=\"text-align: right\">Dino Konstantopoulos, 4 February 2024</div>\n",
    "\n",
    "OMG, Lewis Hamilton leaves Mercedes and [joins](https://www.cnn.com/2024/02/01/sport/lewis-hamilton-ferrari-mercedes-f1-spt-intl/index.html) Ferrari!\n",
    "<center>\n",
    "<img src = imageshw/toon-shock.png width = 400 />\n",
    "</center>\n",
    "\n",
    "Of course, we *all* know who's *still* going to win next season, don't we?\n",
    "\n",
    "<br />\n",
    "<center>\n",
    "<img src = imageshw/maxv-toon.webp width = 400 />\n",
    "</center>"
   ]
  },
  {
   "cell_type": "markdown",
   "id": "3e3ddbbd",
   "metadata": {},
   "source": [
    "# Homework\n",
    "\n",
    "The [first F1 race](https://www.espn.com/f1/race/_/id/600041133) of the year is coming up!\n",
    "\n",
    "[This](https://www.formula1.com/en/racing/2024.html) is the schedule for F1 races for 2024, so Bahrain is coming up first, followed by Saudi Arabia and then Australia.\n",
    "\n",
    "The great Max Verstappen and his team (Red Bull) will once again lead all drivers, but... Lewis H. will try to put a stop at this!\n",
    "<center>\n",
    "<img src = imageshw/lewishf-toon.png width = 600 />\n",
    "</center>\n",
    "<br />\n",
    "\n",
    "\n",
    "\n",
    "## Question 2 (20 points) \n",
    "If Red Bull wins the first race, what is the probability that Red Bull wins the next two? If Red Bull wins at least one of these three races, what is the probability Red Bull wins all three? How about Ferrari, Mercedes, and Alfa Romeo?\n",
    "\n",
    "## Question 3 (40 points)\n",
    "Red Bull wins one of these three races on a rainy day. What is the probability Red Bull wins all three, assuming races can be held on either rainy, sunny, cloudy, snowy or foggy days? Assume that rain, sun, clouds, snow, and fog are the only possible weather conditions on race tracks and there is an equal probability for each one of these weather events.\n",
    "\n",
    "## Question 4 (20 points) Is it the car, or is it the driver?\n",
    "Lewis will  be joining Ferrari, and that is the *big* unknown for the '24 season. What is in your opinion the best way to predict how Lewis + Ferrari will fair, based on the the [2023 standings](https://www.formula1.com/en/results.html/2023/drivers.html), and any other statistics you can gather from that Web site?\n",
    "\n",
    "You need to provide *proof* for your answers by using code, in the form of a function. `I think it's one in a million because Ferrari sucks` is not a good answer.\n",
    "\n",
    "Even though standings are bound to change with the results of the first races, please assume that the standinds that you will use to predict results will *not change* and will be based on the results of the '23 season.\n",
    "\n",
    "Here's how you could begin to count the frequencies of wins for each driver in 2023 and renormalize into a probability distribution to predict probabilities of winning Bahrain"
   ]
  },
  {
   "cell_type": "code",
   "execution_count": 12,
   "id": "5aee40a0-e37e-4bb5-8937-014f155b21c2",
   "metadata": {},
   "outputs": [],
   "source": [
    "class ProbDist(dict):\n",
    "    \"\"\"A Probability Distribution; an {outcome: probability} mapping.\"\"\"\n",
    "    def __init__(self, mapping=(), **kwargs):\n",
    "        self.update(mapping, **kwargs)\n",
    "        # Make probabilities sum to 1.0; assert no negative probabilities\n",
    "        total = sum(self.values())\n",
    "        for outcome in self:\n",
    "            self[outcome] = self[outcome] / total\n",
    "            assert self[outcome] >= 0"
   ]
  },
  {
   "cell_type": "code",
   "execution_count": 13,
   "id": "b763be89-8bba-41a5-8847-54e1798859eb",
   "metadata": {},
   "outputs": [],
   "source": [
    "def p(event, space): \n",
    "    \"\"\"The probability of an event, given a sample space of equiprobable outcomes. \n",
    "    event: a collection of outcomes, or a predicate that is true of outcomes in the event. \n",
    "    space: a set of outcomes or a probability distribution of {outcome: frequency} pairs.\"\"\"\n",
    "    # branch on the type of the first argument\n",
    "    if is_predicate(event):\n",
    "        # transform the mapping (untangible) 'event' into the collection (tangible) 'event'\n",
    "        event = such_that(event , space)\n",
    "        \n",
    "    if isinstance(space, ProbDist):\n",
    "        # if space is a dictionary of distinct probabilities, where each item does not count as the same amount\n",
    "        return sum(space[o] for o in space if o in event)\n",
    "    else:\n",
    "        # space is not a dictionary but a collection, let's fall back to our original division\n",
    "        return Fraction(len(event & space), len(space))\n",
    "\n",
    "is_predicate = callable\n",
    "\n",
    "def such_that(predicate, space): \n",
    "    \"\"\"The outcomes in the sample pace for which the predicate is true.\n",
    "    If space is a set, return a subset {outcome,...} with outcomes where predicate(element) is true;\n",
    "    if space is a ProbDist, return a ProbDist {outcome: frequency,...} with outcomes where predicate(element) is true.\"\"\"\n",
    "    if isinstance(space, ProbDist):\n",
    "        return ProbDist({o:space[o] for o in space if predicate(o)})\n",
    "    else:\n",
    "        return {o for o in space if predicate(o)}"
   ]
  },
  {
   "cell_type": "markdown",
   "id": "2d2b57a1-e4fa-453d-ae60-904ea1747b5e",
   "metadata": {},
   "source": [
    "## Question 1 (20 points) \n",
    "Will [Max Verstappen](https://www.formula1.com/en/drivers/max-verstappen.html) rocks! win it all again in 2024? The first three F1 races are **Bahrain**, **Saudi Arabia**, and **Australia**! The 2023 driver standings are given [here](https://www.formula1.com/en/results.html/2023/drivers.html). \n",
    "\n",
    "Given these standings (***do not use team standings given on the same Web site, use driver standings***), what is the Probability Distribution for each F1 driver to win the Bahrain Grand Prix? What is the Probability Distribution for each F1 driver to win *both* the Bahrain and the Saudi Arabian Grand Prix? What is the Probability Distribution for each F1 driver to win the Bahrain, the Saudi Arabian, *and* the Australian Grand Prix? What is the probability for Red Bull to win all three races? What is the probability for Red Bull to win at least one race, at least two races, and at most two races? Note that Red Bull and all other racing teams have two drivers per race."
   ]
  },
  {
   "cell_type": "code",
   "execution_count": 14,
   "id": "76056c78-2c22-4f0c-a950-f96d2654e4e4",
   "metadata": {},
   "outputs": [
    {
     "data": {
      "text/plain": [
       "{'MV': 0.2554420257663261,\n",
       " 'SP': 0.12661039537983118,\n",
       " 'LH': 0.1039537983118614,\n",
       " 'FA': 0.09151488227454464,\n",
       " 'CL': 0.09151488227454464,\n",
       " 'CS': 0.0888494002665482,\n",
       " 'GR': 0.07774322523322967,\n",
       " 'OP': 0.04309195912927588,\n",
       " 'LSt': 0.03287427809862283,\n",
       " 'PG': 0.027543314082629944,\n",
       " 'EO': 0.02576632607729898,\n",
       " 'AA': 0.011994669035984007,\n",
       " 'YT': 0.007552199022656597,\n",
       " 'VB': 0.00444247001332741,\n",
       " 'NH': 0.003998223011994669,\n",
       " 'DR': 0.0026654820079964462,\n",
       " 'ZG': 0.0026654820079964462,\n",
       " 'KM': 0.0013327410039982231,\n",
       " 'LSa': 0.000444247001332741}"
      ]
     },
     "execution_count": 14,
     "metadata": {},
     "output_type": "execute_result"
    }
   ],
   "source": [
    "BGP = ProbDist(\n",
    "    MV = 575,\n",
    "    SP = 285,\n",
    "    LH = 234,\n",
    "    FA = 206,\n",
    "    CL = 206,\n",
    "    CS = 200,\n",
    "    GR = 175,\n",
    "    OP = 97,\n",
    "    LSt = 74,\n",
    "    PG = 62,\n",
    "    EO = 58,\n",
    "    AA = 27,\n",
    "    YT = 17,\n",
    "    VB = 10,\n",
    "    NH = 9,\n",
    "    DR = 6,\n",
    "    ZG = 6,\n",
    "    KM = 3,\n",
    "    # LL = 2,\n",
    "    LSa = 1\n",
    "    # NDV = 0\n",
    ")\n",
    "BGP"
   ]
  },
  {
   "cell_type": "markdown",
   "id": "e33de527-a320-4558-a59a-acf71d4c502c",
   "metadata": {},
   "source": [
    "what is the Probability Distribution for each F1 driver to win the Bahrain Grand Prix?"
   ]
  },
  {
   "cell_type": "code",
   "execution_count": 15,
   "id": "cb2f73e0-ca0f-499a-94f7-fc8c1f4c5610",
   "metadata": {},
   "outputs": [
    {
     "data": {
      "text/plain": [
       "{'MV': 0.24752475247524752,\n",
       " 'SP': 0.1782178217821782,\n",
       " 'FA': 0.1485148514851485,\n",
       " 'CS': 0.1188118811881188,\n",
       " 'LH': 0.09900990099009901,\n",
       " 'LSt': 0.07920792079207921,\n",
       " 'GR': 0.0594059405940594,\n",
       " 'VB': 0.039603960396039604,\n",
       " 'PG': 0.019801980198019802,\n",
       " 'AA': 0.009900990099009901}"
      ]
     },
     "execution_count": 15,
     "metadata": {},
     "output_type": "execute_result"
    }
   ],
   "source": [
    "bgp = ProbDist(\n",
    "    MV = 25,\n",
    "    SP = 18,\n",
    "    FA = 15,\n",
    "    CS = 12,\n",
    "    LH = 10,\n",
    "    LSt = 8,\n",
    "    GR = 6,\n",
    "    VB = 4,\n",
    "    PG = 2,\n",
    "    AA = 1\n",
    ")\n",
    "\n",
    "bgp"
   ]
  },
  {
   "cell_type": "markdown",
   "id": "58b61cb2-8cba-40c9-8379-e9d15eb11903",
   "metadata": {},
   "source": [
    "What is the Probability Distribution for each F1 driver to win both the Bahrain and the Saudi Arabian Grand Prix?"
   ]
  },
  {
   "cell_type": "code",
   "execution_count": 16,
   "id": "2c0023ac-b5b9-49ce-ad11-a5348ac10f88",
   "metadata": {},
   "outputs": [
    {
     "data": {
      "text/plain": [
       "{'SP': 0.24509803921568626,\n",
       " 'MV': 0.18627450980392157,\n",
       " 'FA': 0.14705882352941177,\n",
       " 'GR': 0.11764705882352941,\n",
       " 'LH': 0.09803921568627451,\n",
       " 'CS': 0.0784313725490196,\n",
       " 'CL': 0.058823529411764705,\n",
       " 'EO': 0.0392156862745098,\n",
       " 'PG': 0.0196078431372549,\n",
       " 'KM': 0.00980392156862745}"
      ]
     },
     "execution_count": 16,
     "metadata": {},
     "output_type": "execute_result"
    }
   ],
   "source": [
    "sagp = ProbDist(\n",
    "    SP = 25,\n",
    "    MV = 19,\n",
    "    FA = 15,\n",
    "    GR = 12,\n",
    "    LH = 10,\n",
    "    CS = 8,\n",
    "    CL = 6,\n",
    "    EO = 4,\n",
    "    PG = 2,\n",
    "    KM = 1\n",
    ")\n",
    "\n",
    "sagp"
   ]
  },
  {
   "cell_type": "code",
   "execution_count": 17,
   "id": "a9182901-1821-41f7-beb4-c411b19a342a",
   "metadata": {},
   "outputs": [],
   "source": [
    "def joint_2(A, B, sep=''):\n",
    "    \"\"\"The joint distribution of two independent probability distributions. \n",
    "    Result is all entries of the form {a+sep+b: P(a)*P(b)}\"\"\"\n",
    "    return ProbDist({a + sep + b: A[a] * B[b]\n",
    "                        for a in A \n",
    "                        for b in B})\n",
    "\n",
    "bs_f = joint_2(bgp, sagp, ' ')\n",
    "# bs_f"
   ]
  },
  {
   "cell_type": "code",
   "execution_count": 18,
   "id": "242b9f86-3649-4f81-a9b8-1d82e44621b8",
   "metadata": {},
   "outputs": [
    {
     "data": {
      "text/plain": [
       "{'MV MV': 0.33403656821378347,\n",
       " 'SP SP': 0.3164556962025316,\n",
       " 'FA FA': 0.15822784810126583,\n",
       " 'CS CS': 0.06751054852320675,\n",
       " 'LH LH': 0.07032348804500704,\n",
       " 'GR GR': 0.05063291139240507,\n",
       " 'PG PG': 0.0028129395218002813}"
      ]
     },
     "execution_count": 18,
     "metadata": {},
     "output_type": "execute_result"
    }
   ],
   "source": [
    "# each F1 driver to win both\n",
    "def both_first(outcome):\n",
    "    val = outcome.split(' ')\n",
    "    return val[0] == val[1]\n",
    "bs_both_first = such_that(both_first, bs_f)\n",
    "bs_both_first"
   ]
  },
  {
   "cell_type": "code",
   "execution_count": 19,
   "id": "f05673ef-0409-4629-b22a-0b8becacbb50",
   "metadata": {},
   "outputs": [
    {
     "data": {
      "text/plain": [
       "1.0"
      ]
     },
     "execution_count": 19,
     "metadata": {},
     "output_type": "execute_result"
    }
   ],
   "source": [
    "sum(bs_both_first.values())"
   ]
  },
  {
   "cell_type": "code",
   "execution_count": 20,
   "id": "e920bf61-5ea1-4260-bad6-a365510874cf",
   "metadata": {},
   "outputs": [
    {
     "data": {
      "text/plain": [
       "{'MV MV': 0.5122180960746857,\n",
       " 'SP SP': 0.12583717158008725,\n",
       " 'LH LH': 0.08483028829842115,\n",
       " 'FA FA': 0.06574362835546424,\n",
       " 'CL CL': 0.06574362835546424,\n",
       " 'CS CS': 0.06196967513947048,\n",
       " 'GR GR': 0.04744553252865708,\n",
       " 'OP OP': 0.014576816834681946,\n",
       " 'LSt LSt': 0.008483648526593508,\n",
       " 'PG PG': 0.005955285780903113,\n",
       " 'EO EO': 0.005211649679229468,\n",
       " 'AA AA': 0.0011293973294168496,\n",
       " 'YT YT': 0.00044773090288267425,\n",
       " 'VB VB': 0.00015492418784867623,\n",
       " 'NH NH': 0.00012548859215742774,\n",
       " 'DR DR': 5.5772707625523445e-05,\n",
       " 'ZG ZG': 5.5772707625523445e-05,\n",
       " 'KM KM': 1.3943176906380861e-05,\n",
       " 'LSa LSa': 1.5492418784867619e-06}"
      ]
     },
     "execution_count": 20,
     "metadata": {},
     "output_type": "execute_result"
    }
   ],
   "source": [
    "# also can use BGP\n",
    "bs_f_BGP = joint_2(BGP, BGP, ' ')\n",
    "bs_both_first_byBGP = such_that(both_first, bs_f_BGP)\n",
    "bs_both_first_byBGP"
   ]
  },
  {
   "cell_type": "markdown",
   "id": "db9c5edd-95c6-4dce-adb7-2711fbe12263",
   "metadata": {},
   "source": [
    "What is the Probability Distribution for each F1 driver to win the Bahrain, the Saudi Arabian, and the Australian Grand Prix?"
   ]
  },
  {
   "cell_type": "code",
   "execution_count": 21,
   "id": "34776cd1-2efb-4834-8c1b-689379aba94d",
   "metadata": {},
   "outputs": [
    {
     "data": {
      "text/plain": [
       "{'MV': 0.24752475247524752,\n",
       " 'LH': 0.1782178217821782,\n",
       " 'FA': 0.1485148514851485,\n",
       " 'LSt': 0.1188118811881188,\n",
       " 'SP': 0.09900990099009901,\n",
       " 'LN': 0.07920792079207921,\n",
       " 'NH': 0.0594059405940594,\n",
       " 'OP': 0.039603960396039604,\n",
       " 'ZG': 0.019801980198019802,\n",
       " 'YT': 0.009900990099009901}"
      ]
     },
     "execution_count": 21,
     "metadata": {},
     "output_type": "execute_result"
    }
   ],
   "source": [
    "agp = ProbDist(\n",
    "    MV = 25,\n",
    "    LH = 18,\n",
    "    FA = 15,\n",
    "    LSt = 12,\n",
    "    SP = 10,\n",
    "    LN = 8,\n",
    "    NH = 6,\n",
    "    OP = 4,\n",
    "    ZG = 2,\n",
    "    YT = 1\n",
    ")\n",
    "\n",
    "agp"
   ]
  },
  {
   "cell_type": "code",
   "execution_count": 22,
   "id": "e2f2fb40-35ee-4fa2-8b23-e821eb84ac7e",
   "metadata": {},
   "outputs": [],
   "source": [
    "def joint_3(A, B, C, sep=''):\n",
    "    \"\"\"The joint distribution of two independent probability distributions. \n",
    "    Result is all entries of the form {a+sep+b: P(a)*P(b)}\"\"\"\n",
    "    return ProbDist({a + sep + b + sep + c: A[a] * B[b] * C[c]\n",
    "                        for a in A \n",
    "                        for b in B\n",
    "                        for c in C})\n",
    "bsa_f = joint_3(bgp,sagp,agp, ' ')\n",
    "# bsa_f"
   ]
  },
  {
   "cell_type": "code",
   "execution_count": 32,
   "id": "695f8601-06c8-42b7-b95a-b7bae9e280dc",
   "metadata": {},
   "outputs": [
    {
     "data": {
      "text/plain": [
       "0.0207111567301168"
      ]
     },
     "execution_count": 32,
     "metadata": {},
     "output_type": "execute_result"
    }
   ],
   "source": [
    "# each F1 driver to win all\n",
    "def all3_first(outcome):\n",
    "    val = outcome.split(' ')\n",
    "    return val[0] == val[1] == val[2]\n",
    "bsa_all_win = p(such_that(all3_first, bsa_f),bsa_f)\n",
    "bsa_all_win"
   ]
  },
  {
   "cell_type": "code",
   "execution_count": 33,
   "id": "6e359997-001d-49be-a296-c5c58c962e8b",
   "metadata": {},
   "outputs": [
    {
     "data": {
      "text/plain": [
       "{'MV MV MV': 0.011412760379124693,\n",
       " 'SP SP SP': 0.004324835512089356,\n",
       " 'FA FA FA': 0.0032436266340670175,\n",
       " 'LH LH LH': 0.0017299342048357426}"
      ]
     },
     "execution_count": 33,
     "metadata": {},
     "output_type": "execute_result"
    }
   ],
   "source": [
    "each_f1_win3 = {a + ' ' + b + ' ' + c: bgp[a] * sagp[b] * agp[c]\n",
    "                        for a in bgp \n",
    "                        for b in sagp\n",
    "                        for c in agp if a==b==c}\n",
    "each_f1_win3"
   ]
  },
  {
   "cell_type": "code",
   "execution_count": 34,
   "id": "93e6a401-0b55-4970-b709-0a6c26c920a9",
   "metadata": {},
   "outputs": [
    {
     "data": {
      "text/plain": [
       "0.020711156730116805"
      ]
     },
     "execution_count": 34,
     "metadata": {},
     "output_type": "execute_result"
    }
   ],
   "source": [
    "sum(each_f1_win3.values())"
   ]
  },
  {
   "cell_type": "code",
   "execution_count": 35,
   "id": "b08564a7-f497-496a-b2bc-4a334f2f4a3b",
   "metadata": {},
   "outputs": [
    {
     "data": {
      "text/plain": [
       "{'MV MV MV': 0.016667752733617293,\n",
       " 'SP SP SP': 0.002029588974765702,\n",
       " 'LH LH LH': 0.0011233655135186047,\n",
       " 'FA FA FA': 0.0007664347301693005,\n",
       " 'CL CL CL': 0.0007664347301693005,\n",
       " 'CS CS CS': 0.0007013963507530248,\n",
       " 'GR GR GR': 0.000469880758414624,\n",
       " 'OP OP OP': 8.001818895385196e-05,\n",
       " 'LSt LSt LSt': 3.552782935469296e-05,\n",
       " 'PG PG PG': 2.089529868528337e-05,\n",
       " 'EO EO EO': 1.7106355598515527e-05,\n",
       " 'AA AA AA': 1.7256980464839736e-06,\n",
       " 'YT YT YT': 4.307450339062014e-07,\n",
       " 'VB VB VB': 8.76745438441281e-08,\n",
       " 'NH NH NH': 6.391474246236938e-08,\n",
       " 'DR DR DR': 1.8937701470331678e-08,\n",
       " 'ZG ZG ZG': 1.8937701470331678e-08,\n",
       " 'KM KM KM': 2.3672126837914598e-09,\n",
       " 'LSa LSa LSa': 8.767454384412811e-11}"
      ]
     },
     "execution_count": 35,
     "metadata": {},
     "output_type": "execute_result"
    }
   ],
   "source": [
    "# also can use BGP\n",
    "each_f1_win3_BGP = {a + ' ' + a + ' ' + a: BGP[a] ** 3\n",
    "                        for a in BGP}\n",
    "each_f1_win3_BGP"
   ]
  },
  {
   "cell_type": "markdown",
   "id": "378cf50f-190b-42ee-989e-685c394572b2",
   "metadata": {},
   "source": [
    "What is the probability for Red Bull to win at least one race, at least two races, and at most two races?"
   ]
  },
  {
   "cell_type": "code",
   "execution_count": 36,
   "id": "b08ff215-a0fe-4316-8fe4-d5104f786ba9",
   "metadata": {},
   "outputs": [
    {
     "data": {
      "text/plain": [
       "{'R_B R_B R_B': 0.06364235724679042,\n",
       " 'R_B R_B LH': 0.03273035515549221,\n",
       " 'R_B R_B FA': 0.027275295962910177,\n",
       " 'R_B R_B LSt': 0.02182023677032814,\n",
       " 'R_B R_B LN': 0.014546824513552097}"
      ]
     },
     "execution_count": 36,
     "metadata": {},
     "output_type": "execute_result"
    }
   ],
   "source": [
    "# replace MV and SP driver with team BG\n",
    "def replace_bg(d):\n",
    "    new_dict = {}\n",
    "    for key, value in d.items():\n",
    "        if key == 'MV' or key == 'SP':\n",
    "            if 'R_B' not in new_dict:\n",
    "                new_dict['R_B'] = value\n",
    "            else:\n",
    "                new_dict['R_B'] += value\n",
    "        else:\n",
    "            new_dict[key] = value\n",
    "    return new_dict\n",
    "new_bgp = replace_bg(bgp)    \n",
    "new_sagp = replace_bg(sagp) \n",
    "new_agp = replace_bg(agp)   \n",
    "\n",
    "new_bsa_f = joint_3(new_bgp,new_sagp,new_agp, ' ')\n",
    "dict(list(new_bsa_f.items())[0:5])"
   ]
  },
  {
   "cell_type": "code",
   "execution_count": 37,
   "id": "c792e5df-1798-4b59-b723-07ef8a0c5942",
   "metadata": {},
   "outputs": [
    {
     "data": {
      "text/plain": [
       "__main__.ProbDist"
      ]
     },
     "execution_count": 37,
     "metadata": {},
     "output_type": "execute_result"
    }
   ],
   "source": [
    "type(new_bsa_f)"
   ]
  },
  {
   "cell_type": "code",
   "execution_count": 38,
   "id": "8ad834ab-3689-4716-baf4-ce5ff43618f1",
   "metadata": {},
   "outputs": [
    {
     "data": {
      "text/plain": [
       "__main__.ProbDist"
      ]
     },
     "execution_count": 38,
     "metadata": {},
     "output_type": "execute_result"
    }
   ],
   "source": [
    "type(bsa_f)"
   ]
  },
  {
   "cell_type": "markdown",
   "id": "513c8ed1-1250-4205-87b2-8115b424a8ea",
   "metadata": {},
   "source": [
    "## at least 1"
   ]
  },
  {
   "cell_type": "code",
   "execution_count": 39,
   "id": "7a71b4e5-cc12-4490-8b42-81d8a210dbc0",
   "metadata": {},
   "outputs": [
    {
     "data": {
      "text/plain": [
       "0.786618382280859"
      ]
     },
     "execution_count": 39,
     "metadata": {},
     "output_type": "execute_result"
    }
   ],
   "source": [
    "def at_least_1(outcome,team):\n",
    "    return team in outcome\n",
    "\n",
    "# at least 1 / total\n",
    "rb_at_least_1 = p(such_that(lambda x : at_least_1(x,'R_B'), new_bsa_f),new_bsa_f)\n",
    "rb_at_least_1"
   ]
  },
  {
   "cell_type": "code",
   "execution_count": 42,
   "id": "d34e0eb4-28b1-44f9-93f2-c93d233df828",
   "metadata": {},
   "outputs": [
    {
     "data": {
      "text/plain": [
       "0.786618382280859"
      ]
     },
     "execution_count": 42,
     "metadata": {},
     "output_type": "execute_result"
    }
   ],
   "source": [
    "def at_least_1_2(outcome,team):\n",
    "    val = outcome.split(' ')\n",
    "    return val.count(team) >= 1\n",
    "rb_at_least_1_2 = p(such_that(lambda x : at_least_1_2(x,'R_B'), new_bsa_f),new_bsa_f)\n",
    "rb_at_least_1_2"
   ]
  },
  {
   "cell_type": "markdown",
   "id": "8f803bfa-1c5d-4b7c-b73a-7475f02a967c",
   "metadata": {},
   "source": [
    "## at least 2"
   ]
  },
  {
   "cell_type": "code",
   "execution_count": 49,
   "id": "cff2611f-cea3-4a05-8980-b7352b9cae10",
   "metadata": {},
   "outputs": [
    {
     "data": {
      "text/plain": [
       "0.35338903721472853"
      ]
     },
     "execution_count": 49,
     "metadata": {},
     "output_type": "execute_result"
    }
   ],
   "source": [
    "from collections import Counter\n",
    "\n",
    "def at_least_2(outcome,team):\n",
    "    val = outcome.split(' ')\n",
    "    return val.count(team) >= 2\n",
    "rb_at_least_2 = p(such_that(lambda x : at_least_2(x,'R_B'), new_bsa_f),new_bsa_f)\n",
    "rb_at_least_2"
   ]
  },
  {
   "cell_type": "code",
   "execution_count": 50,
   "id": "6b920789-1b9b-4f0c-be3f-c50991d7fb2e",
   "metadata": {},
   "outputs": [],
   "source": [
    "rb_at_least_BGP = p(such_that(lambda x : at_least_2(x,'R_B'), new_bsa_f),new_bsa_f)"
   ]
  },
  {
   "cell_type": "markdown",
   "id": "039a468d-ff36-4cb2-804b-59469b376a8e",
   "metadata": {},
   "source": [
    "## at most 2"
   ]
  },
  {
   "cell_type": "code",
   "execution_count": 51,
   "id": "6189c6db-84cc-4033-ac52-c9f6eea26a34",
   "metadata": {},
   "outputs": [
    {
     "data": {
      "text/plain": [
       "0.9363576427532089"
      ]
     },
     "execution_count": 51,
     "metadata": {},
     "output_type": "execute_result"
    }
   ],
   "source": [
    "def at_most_2(outcome,team):\n",
    "    val = outcome.split(' ')\n",
    "    return val.count(team) <= 2\n",
    "rb_at_most_2 = p(such_that(lambda x : at_most_2(x,'R_B'), new_bsa_f),new_bsa_f)\n",
    "rb_at_most_2"
   ]
  },
  {
   "cell_type": "markdown",
   "id": "051bc1cc-a589-4995-ad9b-2b41b3252354",
   "metadata": {},
   "source": [
    "# Question 2\n",
    "If Red Bull wins the first race, what is the probability that Red Bull wins the next two?"
   ]
  },
  {
   "cell_type": "code",
   "execution_count": 52,
   "id": "128b6fd1-25ba-45de-9e87-151152d329d2",
   "metadata": {},
   "outputs": [
    {
     "data": {
      "text/plain": [
       "0.42574257425742534"
      ]
     },
     "execution_count": 52,
     "metadata": {},
     "output_type": "execute_result"
    }
   ],
   "source": [
    "def win_first(outcome):\n",
    "    val = outcome.split(' ')\n",
    "    return val[0] == 'R_B'\n",
    "rb_win_first = p(such_that(win_first, new_bsa_f),new_bsa_f)\n",
    "rb_win_first"
   ]
  },
  {
   "cell_type": "code",
   "execution_count": 53,
   "id": "0ce24587-51c6-4de9-9c12-d6dc54ece85d",
   "metadata": {},
   "outputs": [
    {
     "data": {
      "text/plain": [
       "0.42574257425742534"
      ]
     },
     "execution_count": 53,
     "metadata": {},
     "output_type": "execute_result"
    }
   ],
   "source": [
    "def win_first(outcome, team):\n",
    "    val = outcome.split(' ')\n",
    "    return val[0] == team\n",
    "rb_win_first_1 = p(such_that(lambda x : win_first(x,'R_B'), new_bsa_f),new_bsa_f)\n",
    "rb_win_first_1"
   ]
  },
  {
   "cell_type": "code",
   "execution_count": 54,
   "id": "a95776f7-5c3d-45d1-9c94-6fff4678004a",
   "metadata": {},
   "outputs": [
    {
     "data": {
      "text/plain": [
       "0.4313725490196069"
      ]
     },
     "execution_count": 54,
     "metadata": {},
     "output_type": "execute_result"
    }
   ],
   "source": [
    "def win_second(outcome):\n",
    "    val = outcome.split(' ')\n",
    "    return val[1] == 'R_B'\n",
    "rb_win_second = p(such_that(win_second, new_bsa_f),new_bsa_f)\n",
    "rb_win_second"
   ]
  },
  {
   "cell_type": "code",
   "execution_count": 55,
   "id": "69504eb2-f92d-4e5c-a9fd-21cffd967c05",
   "metadata": {},
   "outputs": [
    {
     "data": {
      "text/plain": [
       "0.3465346534653461"
      ]
     },
     "execution_count": 55,
     "metadata": {},
     "output_type": "execute_result"
    }
   ],
   "source": [
    "def win_third(outcome):\n",
    "    val = outcome.split(' ')\n",
    "    return val[2] == 'R_B'\n",
    "rb_win_third = p(such_that(win_third, new_bsa_f),new_bsa_f)\n",
    "rb_win_third"
   ]
  },
  {
   "cell_type": "code",
   "execution_count": 56,
   "id": "dc880025-dcdf-411c-b608-84710fec146c",
   "metadata": {},
   "outputs": [
    {
     "data": {
      "text/plain": [
       "(0.42574257425742534, 0.4313725490196069, 0.3465346534653461)"
      ]
     },
     "execution_count": 56,
     "metadata": {},
     "output_type": "execute_result"
    }
   ],
   "source": [
    "def win_nth(outcome,team,n):\n",
    "    val = outcome.split(' ')\n",
    "    return val[n] == team\n",
    "rb_win_1,rb_win_2,rb_win_3 = [p(such_that(lambda x: win_nth(x, 'R_B', i), new_bsa_f),new_bsa_f) for i in range(3)]\n",
    "rb_win_1,rb_win_2,rb_win_3"
   ]
  },
  {
   "cell_type": "code",
   "execution_count": 57,
   "id": "69c04ff3-d989-4208-a93c-4f2f33454c3f",
   "metadata": {},
   "outputs": [
    {
     "data": {
      "text/plain": [
       "0.06364235724679022"
      ]
     },
     "execution_count": 57,
     "metadata": {},
     "output_type": "execute_result"
    }
   ],
   "source": [
    "# win all 3\n",
    "rb_win_all3 = rb_win_first*rb_win_second*rb_win_third\n",
    "rb_win_all3"
   ]
  },
  {
   "cell_type": "code",
   "execution_count": 59,
   "id": "8066b73c-da8c-43a3-850c-0101c725e5af",
   "metadata": {},
   "outputs": [
    {
     "data": {
      "text/plain": [
       "0.14948553678897253"
      ]
     },
     "execution_count": 59,
     "metadata": {},
     "output_type": "execute_result"
    }
   ],
   "source": [
    "# P(third and second|first)=(P(first|third and second)*p(third and second))/(P(first)\n",
    "# Seems we need to know P(first|third and second), but it not given\n",
    "\n",
    "# P(first|All3) = 1\n",
    "# P(All3|first) = P(third and second|first) = (P(first|All3) * P(All3))/P(first)\n",
    "P_ts_f = rb_win_all3 / rb_win_first\n",
    "P_ts_f"
   ]
  },
  {
   "cell_type": "markdown",
   "id": "d072476d-4fc7-4125-87a3-427d78ce5975",
   "metadata": {},
   "source": [
    "If Red Bull wins at least one of these three races, what is the probability Red Bull wins all three?"
   ]
  },
  {
   "cell_type": "code",
   "execution_count": 60,
   "id": "138ed7ad-d40f-422c-a2d7-f101f575cb6c",
   "metadata": {},
   "outputs": [
    {
     "data": {
      "text/plain": [
       "0.08090626748672518"
      ]
     },
     "execution_count": 60,
     "metadata": {},
     "output_type": "execute_result"
    }
   ],
   "source": [
    "# P(win_all3|at_least_1) = P(at_least_1|win_all3)*P(win_all3)/P(at_least_1)\n",
    "p_atleast1_thenall3 = rb_win_all3 / rb_at_least_1\n",
    "p_atleast1_thenall3"
   ]
  },
  {
   "cell_type": "markdown",
   "id": "b34bf645-4bc6-4578-a0e7-35da2495b9ed",
   "metadata": {},
   "source": [
    "How about Ferrari, Mercedes, and Alfa Romeo?"
   ]
  },
  {
   "cell_type": "code",
   "execution_count": 61,
   "id": "76bf89ae-f0a6-44ee-bf83-b0be581f5d1c",
   "metadata": {},
   "outputs": [],
   "source": [
    "# Ferrari: CL CS"
   ]
  },
  {
   "cell_type": "code",
   "execution_count": 62,
   "id": "4b4899ef-3b78-41d4-8959-a6946d4a45ca",
   "metadata": {},
   "outputs": [],
   "source": [
    "# Mercedes: LH,GR"
   ]
  },
  {
   "cell_type": "code",
   "execution_count": 63,
   "id": "70bebfa0-7e54-4625-a724-c89ff30afc88",
   "metadata": {},
   "outputs": [],
   "source": [
    "# Alfa Romeo: VB,ZG"
   ]
  },
  {
   "cell_type": "code",
   "execution_count": 64,
   "id": "3269ac82-a207-4eea-bb4f-3827ba7820e7",
   "metadata": {},
   "outputs": [],
   "source": [
    "# replace func\n",
    "def replace_team(d,l,w):\n",
    "    new_dict = {}\n",
    "    for key, value in d.items():\n",
    "        if key in l:\n",
    "            if w not in new_dict:\n",
    "                new_dict[w] = value\n",
    "            else:\n",
    "                new_dict[w] += value\n",
    "        else:\n",
    "            new_dict[key] = value\n",
    "    return new_dict\n",
    "def replace_all_team(d,li,w):\n",
    "    for i,j in zip(li,w):\n",
    "        d = replace_team(d,i,j)\n",
    "    return d\n",
    "        \n",
    "new_bgp_1 = replace_all_team(bgp,\n",
    "                         [('MV','SP'),('LH','GR'),('CL','CS'),('VB','ZG')],\n",
    "                         ['R_B','_M','_F','A_R']) \n",
    "new_sagp_1 = replace_all_team(sagp,\n",
    "                          [('MV','SP'),('LH','GR'),('CL','CS'),('VB','ZG')],\n",
    "                          ['R_B','_M','_F','A_R']) \n",
    "new_agp_1 = replace_all_team(agp,\n",
    "                         [('MV','SP'),('LH','GR'),('CL','CS'),('VB','ZG')],\n",
    "                         ['R_B','_M','_F','A_R']) \n",
    "\n",
    "new_bsa_f_1 = joint_3(new_bgp_1,new_sagp_1,new_agp_1, ' ')\n",
    "# dict(list(new_bsa_f_1.items())[0:5])\n",
    "# dict(list(new_bsa_f_1.items()))"
   ]
  },
  {
   "cell_type": "code",
   "execution_count": 65,
   "id": "b0ff9479-952c-4058-a974-0acfde354a6a",
   "metadata": {},
   "outputs": [
    {
     "data": {
      "text/plain": [
       "{'R_B': 0.42574257425742573,\n",
       " 'FA': 0.1485148514851485,\n",
       " '_F': 0.1188118811881188,\n",
       " '_M': 0.15841584158415842,\n",
       " 'LSt': 0.07920792079207921,\n",
       " 'A_R': 0.039603960396039604,\n",
       " 'PG': 0.019801980198019802,\n",
       " 'AA': 0.009900990099009901}"
      ]
     },
     "execution_count": 65,
     "metadata": {},
     "output_type": "execute_result"
    }
   ],
   "source": [
    "new_bgp_1"
   ]
  },
  {
   "cell_type": "code",
   "execution_count": 66,
   "id": "ec3727f1-5d94-45d3-8d0a-6fb05c46556b",
   "metadata": {},
   "outputs": [
    {
     "data": {
      "text/plain": [
       "{'R_B': 0.42574257425742573,\n",
       " 'FA': 0.1485148514851485,\n",
       " 'CS': 0.1188118811881188,\n",
       " 'LH': 0.09900990099009901,\n",
       " 'LSt': 0.07920792079207921,\n",
       " 'GR': 0.0594059405940594,\n",
       " 'VB': 0.039603960396039604,\n",
       " 'PG': 0.019801980198019802,\n",
       " 'AA': 0.009900990099009901}"
      ]
     },
     "execution_count": 66,
     "metadata": {},
     "output_type": "execute_result"
    }
   ],
   "source": [
    "new_bgp"
   ]
  },
  {
   "cell_type": "code",
   "execution_count": 67,
   "id": "e105e7c4-f0cd-457e-9d77-b0e607b8118b",
   "metadata": {},
   "outputs": [],
   "source": [
    "def win_nround(outcome, team, n):\n",
    "    val = outcome.split(' ')\n",
    "    return val[n] == team"
   ]
  },
  {
   "cell_type": "code",
   "execution_count": 68,
   "id": "b9229d3f-e21c-4175-8cdd-2070bcf24e49",
   "metadata": {},
   "outputs": [
    {
     "name": "stdout",
     "output_type": "stream",
     "text": [
      "0.4257425742574252 0.43137254901960703 0.346534653465346\n"
     ]
    }
   ],
   "source": [
    "# RED BULL RACING HONDA RBPT\n",
    "rb_win_first,rb_win_second,rb_win_third = [p(such_that(lambda x: win_nround(x, 'R_B', i), new_bsa_f_1),new_bsa_f_1) for i in range(3)]\n",
    "print(rb_win_first,rb_win_second,rb_win_third)"
   ]
  },
  {
   "cell_type": "code",
   "execution_count": 69,
   "id": "13af6189-a772-4b2c-b135-5948b05538e5",
   "metadata": {},
   "outputs": [
    {
     "name": "stdout",
     "output_type": "stream",
     "text": [
      "0.15841584158415828 0.21568627450980352 0.17821782178217793\n",
      "0.03843913803145006\n",
      "0.013308072639896454\n"
     ]
    }
   ],
   "source": [
    "# MERCEDES\n",
    "m_win_first,m_win_second,m_win_third = [p(such_that(lambda x: win_nround(x, '_M', i), new_bsa_f_1),new_bsa_f_1) for i in range(3)]\n",
    "print(m_win_first,m_win_second,m_win_third)\n",
    "m_all_win = m_win_first*m_win_second*m_win_third\n",
    "m_win1_then2 = m_all_win / m_win_first\n",
    "print(m_win1_then2)\n",
    "m_atleast1_then3 = m_all_win / p(such_that(lambda x : at_least_1(x,'_M'), new_bsa_f_1),new_bsa_f_1)\n",
    "print(m_atleast1_then3)"
   ]
  },
  {
   "cell_type": "code",
   "execution_count": 70,
   "id": "2f653c51-ee06-4191-bb6c-eedb1809b987",
   "metadata": {},
   "outputs": [
    {
     "name": "stdout",
     "output_type": "stream",
     "text": [
      "0.11881188118811864 0.1372549019607841 0\n",
      "0.0\n",
      "0.0\n"
     ]
    }
   ],
   "source": [
    "# Ferrari\n",
    "f_win_first,f_win_second,f_win_third = [p(such_that(lambda x: win_nround(x, '_F', i), new_bsa_f_1),new_bsa_f_1) for i in range(3)]\n",
    "print(f_win_first,f_win_second,f_win_third)\n",
    "f_all_win = f_win_first*f_win_second*f_win_third\n",
    "f_win1_then2 = f_all_win / f_win_first\n",
    "print(f_win1_then2)\n",
    "f_atleast1_then3 = f_all_win / p(such_that(lambda x : at_least_1(x,'_F'), new_bsa_f_1),new_bsa_f_1)\n",
    "print(f_atleast1_then3)"
   ]
  },
  {
   "cell_type": "code",
   "execution_count": 71,
   "id": "eecaa328-9d2f-432b-aa8e-edac68c3f3e0",
   "metadata": {},
   "outputs": [
    {
     "name": "stdout",
     "output_type": "stream",
     "text": [
      "0.03960396039603957 0 0.019801980198019785\n",
      "0.0\n",
      "0.0\n"
     ]
    }
   ],
   "source": [
    "# Alfa Romeo\n",
    "ar_win_first,ar_win_second,ar_win_third = [p(such_that(lambda x: win_nround(x, 'A_R', i), new_bsa_f_1),new_bsa_f_1) for i in range(3)]\n",
    "print(ar_win_first,ar_win_second,ar_win_third)\n",
    "ar_all_win = ar_win_first*ar_win_second*ar_win_third\n",
    "ar_win1_then2 = ar_all_win / ar_win_first\n",
    "print(ar_win1_then2)\n",
    "ar_atleast1_then3 = ar_all_win / p(such_that(lambda x : at_least_1(x,'A_R'), new_bsa_f_1),new_bsa_f_1)\n",
    "print(ar_atleast1_then3)"
   ]
  },
  {
   "cell_type": "markdown",
   "id": "2001617b-6f9b-4fa4-9aae-b61e98797eb8",
   "metadata": {},
   "source": [
    "# Question 3\n",
    "Red Bull wins one of these three races on a rainy day. What is the probability Red Bull wins all three, assuming races can be held on either rainy, sunny, cloudy, snowy or foggy days?\n",
    "**(Assume that rain, sun, clouds, snow, and fog are the only possible weather conditions on race tracks and there is an equal probability for each one of these weather events.)**"
   ]
  },
  {
   "cell_type": "code",
   "execution_count": 73,
   "id": "10165794-fe03-41f1-b528-2eff4b6dea15",
   "metadata": {},
   "outputs": [
    {
     "data": {
      "text/plain": [
       "{'rain': 0.2, 'sun': 0.2, 'clouds': 0.2, 'snow': 0.2, 'fog': 0.2}"
      ]
     },
     "execution_count": 73,
     "metadata": {},
     "output_type": "execute_result"
    }
   ],
   "source": [
    "weather = ProbDist(rain = 1,\n",
    "              sun = 1,\n",
    "              clouds = 1,\n",
    "              snow = 1,\n",
    "              fog = 1)\n",
    "weather"
   ]
  },
  {
   "cell_type": "code",
   "execution_count": 74,
   "id": "a821fff9-b713-45ad-86b7-34a87b4f0802",
   "metadata": {},
   "outputs": [
    {
     "data": {
      "text/plain": [
       "0.25890005595752064"
      ]
     },
     "execution_count": 74,
     "metadata": {},
     "output_type": "execute_result"
    }
   ],
   "source": [
    "# win at least one in rain\n",
    "rb_al1_rain = rb_at_least_1 * weather['rain'] \n",
    "\n",
    "# win other 2\n",
    "rb_all3_other = (1-weather['rain'] )**2 * rb_win_all3\n",
    "res = rb_all3_other/rb_al1_rain\n",
    "res"
   ]
  },
  {
   "cell_type": "markdown",
   "id": "daaf27e3-1034-49c0-939c-6f5572d7e34c",
   "metadata": {},
   "source": [
    "# Question 4\n",
    "Is it the car, or is it the driver?"
   ]
  },
  {
   "cell_type": "code",
   "execution_count": 78,
   "id": "34ec3aa0-5392-498f-918f-93baee6a8811",
   "metadata": {},
   "outputs": [
    {
     "data": {
      "text/plain": [
       "{'2007': 109,\n",
       " '2008': 98,\n",
       " '2009': 49,\n",
       " '2010': 240,\n",
       " '2011': 227,\n",
       " '2012': 190,\n",
       " '2013': 189,\n",
       " '2014': 384,\n",
       " '2015': 381,\n",
       " '2016': 380,\n",
       " '2017': 363,\n",
       " '2018': 408,\n",
       " '2019': 413,\n",
       " '2020': 347,\n",
       " '2021': 387,\n",
       " '2022': 240,\n",
       " '2023': 234}"
      ]
     },
     "execution_count": 78,
     "metadata": {},
     "output_type": "execute_result"
    }
   ],
   "source": [
    "Lewis_points_per_year = {\n",
    "    '2007': 109,\n",
    "    '2008': 98,\n",
    "    '2009': 49,\n",
    "    '2010': 240,\n",
    "    '2011': 227,\n",
    "    '2012': 190,\n",
    "    '2013': 189,\n",
    "    '2014': 384,\n",
    "    '2015': 381,\n",
    "    '2016': 380,\n",
    "    '2017': 363,\n",
    "    '2018': 408,\n",
    "    '2019': 413,\n",
    "    '2020': 347,\n",
    "    '2021': 387,\n",
    "    '2022': 240,\n",
    "    '2023': 234\n",
    "}\n",
    "\n",
    "Lewis_points_per_year"
   ]
  },
  {
   "cell_type": "code",
   "execution_count": 81,
   "id": "a8419195-ba7f-479c-85e5-a538d90166d4",
   "metadata": {},
   "outputs": [
    {
     "data": {
      "text/plain": [
       "272.88235294117646"
      ]
     },
     "execution_count": 81,
     "metadata": {},
     "output_type": "execute_result"
    }
   ],
   "source": [
    "import pandas as pd\n",
    "import numpy as np\n",
    "import seaborn as seab\n",
    "import matplotlib.pyplot as plt\n",
    "\n",
    "df = pd.DataFrame(list(Lewis_points_per_year.items()), columns=['Year', 'Points'])\n",
    "\n",
    "# Calculate the mean of the points column\n",
    "mean_points_pd = df['Points'].mean()\n",
    "\n",
    "mean_points_pd"
   ]
  },
  {
   "cell_type": "code",
   "execution_count": 82,
   "id": "0dbf3dd4-5955-4d7c-89d0-82b8c8b5a92b",
   "metadata": {},
   "outputs": [
    {
     "data": {
      "image/png": "[encoded data removed]",
      "text/plain": [
       "<Figure size 1400x800 with 1 Axes>"
      ]
     },
     "metadata": {},
     "output_type": "display_data"
    }
   ],
   "source": [
    "df['Year'] = df['Year'].astype(int)\n",
    "\n",
    "# Plotting\n",
    "plt.figure(figsize=(14, 8))\n",
    "plt.plot(df['Year'], df['Points'], marker='o', linestyle='-', color='red')\n",
    "plt.title('Lewis Hamilton F1 Points Per Year (2007-2023)', fontsize=16)\n",
    "plt.xlabel('Year', fontsize=14)\n",
    "plt.ylabel('Points', fontsize=14)\n",
    "plt.grid(True)\n",
    "plt.xticks(df['Year'], rotation=45)\n",
    "plt.tight_layout()\n",
    "\n",
    "# Show the plot\n",
    "plt.show()"
   ]
  },
  {
   "cell_type": "markdown",
   "id": "b497434d-6f1f-405d-a31b-3f336114675f",
   "metadata": {},
   "source": [
    "#### The picture shows that LEwis's last two scores were not high"
   ]
  },
  {
   "cell_type": "code",
   "execution_count": 83,
   "id": "5752fd0b-71ae-4273-8f88-8c527c21d3d6",
   "metadata": {},
   "outputs": [
    {
     "data": {
      "image/png": "[encoded data removed]",
      "text/plain": [
       "<Figure size 1000x600 with 1 Axes>"
      ]
     },
     "metadata": {},
     "output_type": "display_data"
    }
   ],
   "source": [
    "drivers = ['Lewis Hamilton', 'Charles Leclerc', 'Carlos Sainz', 'George Russell']\n",
    "points = [234, 206, 200, 175]\n",
    "teams = ['Mercedes', 'Ferrari', 'Ferrari', 'Mercedes']\n",
    "\n",
    "# set different color for each\n",
    "colors = ['blue' if team == 'Mercedes' else 'red' for team in teams]\n",
    "\n",
    "# plotting\n",
    "plt.figure(figsize=(10, 6))\n",
    "bars = plt.bar(drivers, points, color=colors)\n",
    "\n",
    "# set title and label\n",
    "plt.title('F1 2023 Season Points Comparison', fontsize=16)\n",
    "plt.xlabel('Drivers', fontsize=14)\n",
    "plt.ylabel('Points', fontsize=14)\n",
    "plt.xticks(rotation=45)\n",
    "\n",
    "from matplotlib.patches import Patch\n",
    "legend_elements = [Patch(facecolor='blue', label='Mercedes'),\n",
    "                   Patch(facecolor='red', label='Ferrari')]\n",
    "plt.legend(handles=legend_elements, title='Teams')\n",
    "\n",
    "# show\n",
    "plt.tight_layout()\n",
    "plt.show()"
   ]
  },
  {
   "cell_type": "markdown",
   "id": "6aebf4a7-7dbe-4fdf-90b4-b68ed0291d1f",
   "metadata": {},
   "source": [
    "#### This graph shows the driver statistics, the transfer of Lewis, may strengthen Ferrari, while weakening Mercedes. These two are already second and third place, and the gap between them and the first place is still very large. So maybe Ferrari can compete for second place next season, but the probability of first place is still not as high as Red Bull Racing Honda Rbpt."
   ]
  },
  {
   "cell_type": "code",
   "execution_count": 84,
   "id": "2945c0ee-da6a-4e7b-ab52-fa3c72dd2a59",
   "metadata": {},
   "outputs": [
    {
     "data": {
      "text/plain": [
       "{'MV': 0.2554420257663261,\n",
       " 'SP': 0.12661039537983118,\n",
       " 'LH': 0.1039537983118614,\n",
       " 'FA': 0.09151488227454464,\n",
       " 'CL': 0.09151488227454464,\n",
       " 'CS': 0.0888494002665482,\n",
       " 'GR': 0.07774322523322967,\n",
       " 'OP': 0.04309195912927588,\n",
       " 'LSt': 0.03287427809862283,\n",
       " 'PG': 0.027543314082629944,\n",
       " 'EO': 0.02576632607729898,\n",
       " 'AA': 0.011994669035984007,\n",
       " 'YT': 0.007552199022656597,\n",
       " 'VB': 0.00444247001332741,\n",
       " 'NH': 0.003998223011994669,\n",
       " 'DR': 0.0026654820079964462,\n",
       " 'ZG': 0.0026654820079964462,\n",
       " 'KM': 0.0013327410039982231,\n",
       " 'LSa': 0.000444247001332741}"
      ]
     },
     "execution_count": 84,
     "metadata": {},
     "output_type": "execute_result"
    }
   ],
   "source": [
    "BGP"
   ]
  },
  {
   "cell_type": "code",
   "execution_count": 85,
   "id": "2271ae71-b880-4719-bd8f-51b0f9f5a979",
   "metadata": {},
   "outputs": [
    {
     "data": {
      "text/plain": [
       "True"
      ]
     },
     "execution_count": 85,
     "metadata": {},
     "output_type": "execute_result"
    }
   ],
   "source": [
    "BGP['LH']+BGP['CL']<BGP['MV']"
   ]
  }
 ],
 "metadata": {
  "kernelspec": {
   "display_name": "Python 3 (ipykernel)",
   "language": "python",
   "name": "python3"
  },
  "language_info": {
   "codemirror_mode": {
    "name": "ipython",
    "version": 3
   },
   "file_extension": ".py",
   "mimetype": "text/x-python",
   "name": "python",
   "nbconvert_exporter": "python",
   "pygments_lexer": "ipython3",
   "version": "3.11.0"
  }
 },
 "nbformat": 4,
 "nbformat_minor": 5
}
