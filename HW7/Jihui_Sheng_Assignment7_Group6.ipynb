{
 "cells": [
  {
   "cell_type": "markdown",
   "metadata": {
    "button": false,
    "new_sheet": false,
    "run_control": {
     "read_only": false
    }
   },
   "source": [
    "<div style=\"text-align: right\">INFO 6105 Data Sci Engineering Methods and Tools, Week 4 Lecture 1</div>\n",
    "<div style=\"text-align: right\">Dino Konstantopoulos, 29 January 2024, with material from Peter Norvig and Cam Davidson-Pilon</div>\n",
    "\n",
    "# Get ready for class\n",
    "Make sure to unzip all images from each week's `images.zip` on blackboard onto your `C:/Users/<username>/ipynb.images` folder (*create it if it doesn't exist!*). If there's ever a `data.zip` file on blackboard, unzip its contents onto your `C:/Users/<username>/data` folder (*create it if it doesn't exist!*).\n",
    "\n",
    ">**IMPORTANT**: when you install a python package on a terminal, make sure it is running the anaconda engine (`python --version`) because if it is not, then you are installing the package on ***another*** python engine. If you have to, you can always make sure you are installing on the anaconda engine by running the following in an anaconda cell:\n",
    "```(python)\n",
    "!pip install tensorflow\n",
    "```\n",
    "\n",
    "# Plan for the week\n",
    "\n",
    "You worked with *data* last week (dictionaries and lists). This week, you will work with *functions*, trying to express logic as python functions. We also learn to do ***math***, using ***programming*** and ***counting*** rather than theory.\n",
    "\n",
    "To make this study more entertaining and in order to learn data science at the same time, we try to understand **probabilities** and how to ***compute probabilities*** with **python list comprehensions** and  **python lambda arithmetic**.\n",
    "\n",
    "<br />\n",
    "<center>\n",
    "    <img src=\"ipynb.images/thomas-bayes.png\" width=400 />\n",
    "</center>\n",
    "\n",
    "# 1. Probability\n",
    "\n",
    "In 1814, Pierre-Simon, marquis de Laplace (23 March 1749 – 5 March 1827), a French scholar whose work was important to the development of mathematics, statistics, physics and astronomy, [wrote](https://en.wikipedia.org/wiki/Classical_definition_of_probability):\n",
    "\n",
    ">**DEFINTION**: *Probability ... is thus simply a fraction whose numerator is the number of favorable cases and whose denominator is the number of all the cases possible ... when nothing leads us to expect that any one of these cases should occur more than any other.*"
   ]
  },
  {
   "cell_type": "markdown",
   "metadata": {},
   "source": [
    "Here's some definitions. ***Learn*** these words! \n",
    "\n",
    "- [Experiment](https://en.wikipedia.org/wiki/Experiment_(probability_theory%29)):\n",
    "  An occurrence with an uncertain outcome that we can observe.\n",
    "  <br>*For example, rolling a die.*\n",
    "\n",
    "\n",
    "- [Outcome](https://en.wikipedia.org/wiki/Outcome_(probability%29)):\n",
    "  The result of an experiment; one particular state of the world. What Laplace calls a \"case.\"\n",
    "  <br>*For example:* `4`.\n",
    "\n",
    "\n",
    "- [Sample Space](https://en.wikipedia.org/wiki/Sample_space):\n",
    "  The set of all possible outcomes for the experiment. \n",
    "  <br>*For example,* `{1, 2, 3, 4, 5, 6}`.\n",
    "\n",
    "\n",
    "- [Event](https://en.wikipedia.org/wiki/Event_(probability_theory%29)):\n",
    "  A subset of possible outcomes that together have some property we are interested in.\n",
    "  <br>*For example, the event \"even die roll\" is the set of outcomes* `{2, 4, 6}`. \n",
    "\n",
    "Now what's the probability of landing **heads**? How about **tails**? How about a sequence of 4 **heads**? \n",
    "\n",
    "Here's a little game: What's the probability that you roll a **one** if you roll a die? How about *at least* a three if you roll *two* dice? *At most* a **four**? **Snake-eyes** for two dice?\n",
    "\n",
    "Here's another game: What's the probability that someone *in this class* shares *your* birthday?\n",
    "\n",
    ">Each person can have your birthday with probability 1/365. There are n−1 people other than yourself, so the probability that someone shares your birthday is ...\n",
    "\n",
    "Now, what is the probability that *two* students in this class have the *same* birthday? Which one of the two probabilities, this one or the previous one, do you think is higher? Write a function in the cell below that computes this probability:"
   ]
  },
  {
   "cell_type": "markdown",
   "metadata": {},
   "source": [
    "<div style=\"display:none;\">\n",
    "\n",
    "- What is the probability that some***one*** in this classroom shares your birthday? \n",
    "\n",
    "Each person can have your birthday with probability 1/365. There are n-1 people other than yourself, so the probability that someone shares your birthday is the **sum** of all probabilities, it's the sum because these are **parallel events**: It's the **union** of possibilities which have no intersection. The sum is (n-1)/ 365.\n",
    "\n",
    "- What is the probability that ***two*** students in this classroom have the same birthday? \n",
    "\n",
    "For 2 students to share a birthday, this problem is best approached the other way around, because probability that no two people have the same birthday is easier to ﬁnd.\n",
    "\n",
    "Let A be the event that two people have the same birthday. Then Ac is the event that no two people have the same birthday. Note that P(A) = 1−P(Ac).\n",
    "\n",
    "We start with person 1, he has a birthday.\n",
    "\n",
    "The second person can only have a birthday on the 364 days out of the year that hasn’t been ‘taken\n",
    "By assumption of random birthdays, and of uniform probability, the chance that this person has any of the 364 birthdays is 364/365.\n",
    "\n",
    "A third person can only have a birthday out of the 353 days not ‘taken,’ and the corresponding probability of such an event is 363/365.\n",
    "\n",
    "This continues until we’ve covered all n people.\n",
    "\n",
    "Since this is a **sequence of events**, or an **intersection of events**, probabilities **multiply**, just like throwing two heads if you flip a coin twice.\n",
    "\n",
    "```(python)\n",
    "from operator import mul\n",
    "from functools import reduce\n",
    "\n",
    "# assume 10 people in class\n",
    "def probSomeoneShares():\n",
    "    return 9/365\n",
    "\n",
    "def prob2StudentsShare():\n",
    "    \"\"\"return 1 minus the negation (students NOT sharing a common birthday)\"\"\"\n",
    "    \"\"\"return 1 - (364 * 363 * 362 * 361 * 360 * 359 * 358 * 357 * 356)/ (365 ** 10)\"\"\"\n",
    "    l = [n for n in range(365, 355, -1)]\n",
    "    return 1 - (reduce(mul, l, 1) / (365 ** 10))\n",
    "\n",
    "print(\"Student shares birthday with another student: \" + str(probSomeoneShares()))\n",
    "print(\"2 students share birthday: \" + str(prob2StudentsShare()))\n",
    "```\n",
    "</div>"
   ]
  },
  {
   "cell_type": "code",
   "execution_count": 1,
   "metadata": {},
   "outputs": [
    {
     "name": "stdout",
     "output_type": "stream",
     "text": [
      "YOU share birthday with another student: 0.136986301369863\n",
      "2 students share birthday: 0.9703735795779884\n"
     ]
    }
   ],
   "source": [
    "from operator import mul\n",
    "from functools import reduce\n",
    "\n",
    "def shares_my_birthday(n=50):\n",
    "    return n/365\n",
    "\n",
    "def two_students_share_same_birthday(n = 50):\n",
    "    '''return 1 - ...'''\n",
    "    l = range(365, 365-n,-1)\n",
    "    return 1 - (reduce(mul,l,1) /(365**n))\n",
    "    \n",
    "\n",
    "print(\"YOU share birthday with another student: \" + str(shares_my_birthday()))\n",
    "print(\"2 students share birthday: \" + str(two_students_share_same_birthday()))"
   ]
  },
  {
   "cell_type": "markdown",
   "metadata": {},
   "source": [
    "Out of curiosity, what happens if there are 23 students in class?\n",
    "\n",
    "<br />\n",
    "<center>\n",
    "    <img src=\"ipynb.images/whaaaaat.png\" width=300 />\n",
    "</center>\n",
    "\n",
    "For more about the math behind probabilities, read the **probability1-birthdays** notebook. But don't be scared if you don't understand the math..\n",
    "\n",
    "<br />\n",
    "<center>\n",
    "    <img src=\"ipynb.images/minions-fight.jpg\" width=300 />\n",
    "</center>\n",
    "\n",
    "..because in this class we'll write python programs to do the math for us :-)\n",
    "\n",
    "<br />\n",
    "<center>\n",
    "    <img src=\"ipynb.images/minions-happy.jpg\" width=300 />\n",
    "</center>\n"
   ]
  },
  {
   "cell_type": "markdown",
   "metadata": {
    "button": false,
    "new_sheet": false,
    "run_control": {
     "read_only": false
    }
   },
   "source": [
    "# 2. Dice (singular: *Die*) \n",
    "\n",
    "<br />\n",
    "<center>\n",
    "    <img src=\"ipynb.images/dice.jpg\" width=300 />\n",
    "</center>\n",
    "\n",
    "`p` is the traditional name for the Probability function:\n",
    "```python\n",
    "from fractions import Fraction\n",
    "def p(event, space): \n",
    "    \"The probability of an event, given a sample space of equiprobable outcomes.\"\n",
    "    return Fraction(len(event & space), \n",
    "                    len(space))\n",
    "```\n",
    "\n",
    "To note:\n",
    "* We use ```Fraction``` rather than regular division because I want ***exact*** answers like 1/3, not 0.3333333333333333.\n",
    "* `&` is the python set *intersection* operation, while `|` is the python *union* operation.\n",
    "\n",
    "**Exercise**: What's the probability of rolling an even number with a single six-sided fair die? Use \n",
    "python tuples (unordered collection with no duplicate elements), since we don't expect them to change.\n",
    "\n",
    "Ahhhhh.... we use **sets** instead!\n",
    "\n",
    "Define the sample space D:\n",
    "```D    = {...}```\n",
    "\n",
    "and the event even:\n",
    "```even = {...}```\n",
    "\n",
    "and compute the probability:\n",
    "```p(even, D)```\n",
    "\n",
    "Copy and paste the code above in the cell below, and replace ```...``` with the right values!"
   ]
  },
  {
   "cell_type": "code",
   "execution_count": 2,
   "metadata": {
    "button": false,
    "new_sheet": false,
    "run_control": {
     "read_only": false
    }
   },
   "outputs": [
    {
     "data": {
      "text/plain": [
       "Fraction(1, 2)"
      ]
     },
     "execution_count": 2,
     "metadata": {},
     "output_type": "execute_result"
    }
   ],
   "source": [
    "from fractions import Fraction\n",
    "def p(event, space): \n",
    "    \"The probability of an event, given a sample space of equiprobable outcomes.\"\n",
    "    return Fraction(len(event & space), \n",
    "                    len(space))\n",
    "\n",
    "D = {1,2,3,4,5,6}\n",
    "even = {2,4,6}\n",
    "p(even,D)"
   ]
  },
  {
   "cell_type": "code",
   "execution_count": 3,
   "metadata": {},
   "outputs": [
    {
     "name": "stdout",
     "output_type": "stream",
     "text": [
      "1/2\n"
     ]
    }
   ],
   "source": [
    "print(p(even, D))"
   ]
  },
  {
   "cell_type": "code",
   "execution_count": 4,
   "metadata": {},
   "outputs": [
    {
     "name": "stdout",
     "output_type": "stream",
     "text": [
      "0.5\n"
     ]
    }
   ],
   "source": [
    "print(float(p(even, D)))"
   ]
  },
  {
   "cell_type": "markdown",
   "metadata": {
    "button": false,
    "new_sheet": false,
    "run_control": {
     "read_only": false
    }
   },
   "source": [
    "What happens if you specify ```even = {2, 4, 6, 8, 10, 12, 14, 16, 18, 20}```?\n",
    "\n",
    "To note:\n",
    "* The definition of ```p``` uses ```len(event & space)``` rather than ```len(event)``` because I don't want to count outcomes that were specified in event but aren't actually in the sample space."
   ]
  },
  {
   "cell_type": "code",
   "execution_count": 5,
   "metadata": {},
   "outputs": [
    {
     "data": {
      "text/plain": [
       "{2, 4, 6}"
      ]
     },
     "execution_count": 5,
     "metadata": {},
     "output_type": "execute_result"
    }
   ],
   "source": [
    "even = {2, 4, 6, 8, 10, 12, 14, 16, 18, 20}\n",
    "even&D"
   ]
  },
  {
   "cell_type": "markdown",
   "metadata": {
    "button": false,
    "new_sheet": false,
    "run_control": {
     "read_only": false
    }
   },
   "source": [
    "# 3. Urns, permutations, and combinations\n",
    "\n",
    "<br />\n",
    "<center>\n",
    "<img src=\"https://upload.wikimedia.org/wikipedia/commons/thumb/3/3c/Urn_problem_qtl6.svg/200px-Urn_problem_qtl6.svg.png\"/>\n",
    "</center>\n",
    "\n",
    "\n",
    "Around 1700, [Jacob Bernoulli](https://en.wikipedia.org/wiki/Jacob_Bernoulli) wrote about removing colored balls from an urn in his landmark treatise *[Ars Conjectandi](https://en.wikipedia.org/wiki/Ars_Conjectandi)*\n",
    "\n",
    "Here is a three-part problem [adapted](http://mathforum.org/library/drmath/view/69151.html) from **mathforum.org**:\n",
    "\n",
    "> An urn contains 23 balls: 8 white, 6 blue, and 9 red.  We select six balls at random (each possible selection is equally likely). What is the probability of each of these possible outcomes:\n",
    "\n",
    "> 1. All balls are red\n",
    "2. 3 are blue, 2 are white, and 1 is red\n",
    "3. Exactly 4 balls are white\n",
    "\n",
    "So, outcome = set of 6 balls, sample space = set of all possible 6 ball combinations. \n",
    "\n",
    "We'll mark our balls `'W1'` through `'W8'`, `'B1'` through `'B6'`, and `'R1'` through `'R9'`.\n",
    "\n",
    "To note:\n",
    "- An outcome is a *set* of balls, where order doesn't matter, not a *sequence*, where order matters. When order **matters**, the set of outcomes is called all **permutations**. When order **does not matter**, the set of outcomes is called all **combinations**.\n",
    "\n",
    "The number of *combinations* of balls is the number of *permutations* divided by `c!`, where *c* is the number of balls. So there are less combinations and more permutations possible. If I want to choose 2 white balls from the 8 available, there are 8 ways to choose a first white ball and 7 ways to choose a second (because the first one has been picked and not available in the sample space anymore), and therefore 8 &times; 7 = 56 permutations of two white balls. But there are only 56 / 2 = 28 combinations, because `(W1, W2)` is the same combination as `(W2, W1)`.\n",
    "\n",
    "Hehe... hate math? That's ok, because we'll write a **program** to do the counting for us!\n",
    "\n",
    "We'll start by defining the contents of the urn, and we'll use a python `set` (unordered collection with no duplicate elements), since we don't expect them to change. Since we're passing in strings, the `+` operator will concatenate strings together.\n",
    "\n",
    "```python\n",
    "def cross(A, B):\n",
    "    \"\"\"The set of ways of concatenating one item from collection A with one from B.\"\"\"\n",
    "    return {a + b \n",
    "            for a ... for b ...}  # fill in the ...\n",
    "\n",
    "urn = cross('W', '12345678') | cross('B', ...) | cross('R', ...)\n",
    "urn\n",
    "len(urn)\n",
    "```"
   ]
  },
  {
   "cell_type": "code",
   "execution_count": 6,
   "metadata": {},
   "outputs": [
    {
     "data": {
      "text/plain": [
       "{'B1',\n",
       " 'B2',\n",
       " 'B3',\n",
       " 'B4',\n",
       " 'B5',\n",
       " 'B6',\n",
       " 'R1',\n",
       " 'R2',\n",
       " 'R3',\n",
       " 'R4',\n",
       " 'R5',\n",
       " 'R6',\n",
       " 'R7',\n",
       " 'R8',\n",
       " 'R9',\n",
       " 'W1',\n",
       " 'W2',\n",
       " 'W3',\n",
       " 'W4',\n",
       " 'W5',\n",
       " 'W6',\n",
       " 'W7',\n",
       " 'W8'}"
      ]
     },
     "execution_count": 6,
     "metadata": {},
     "output_type": "execute_result"
    }
   ],
   "source": [
    "def cross(A, B):\n",
    "    \"\"\"The set of ways of concatenating one item from collection A with one from B.\"\"\"\n",
    "    return {a + b \n",
    "            for a in A for b in B}  # fill in the ...\n",
    "\n",
    "urn = cross('W', '12345678') | cross('B', '123456') | cross('R', '123456789')\n",
    "urn"
   ]
  },
  {
   "cell_type": "code",
   "execution_count": 7,
   "metadata": {},
   "outputs": [
    {
     "data": {
      "text/plain": [
       "23"
      ]
     },
     "execution_count": 7,
     "metadata": {},
     "output_type": "execute_result"
    }
   ],
   "source": [
    "len(urn)"
   ]
  },
  {
   "cell_type": "code",
   "execution_count": 8,
   "metadata": {},
   "outputs": [
    {
     "name": "stdout",
     "output_type": "stream",
     "text": [
      "{'B1', 'B6', 'W1', 'R5', 'W5', 'W3', 'W2', 'R4', 'R9', 'W4', 'B2', 'W7', 'R2', 'W8', 'R1', 'R6', 'R7', 'R8', 'W6', 'B4', 'B5', 'B3', 'R3'}\n"
     ]
    }
   ],
   "source": [
    "print(urn)"
   ]
  },
  {
   "cell_type": "markdown",
   "metadata": {
    "button": false,
    "new_sheet": false,
    "run_control": {
     "read_only": false
    }
   },
   "source": [
    "Now let's define the sample space, `U6`, as the set of all 6-ball ***combinations*** (physicists define all forces in nature in terms of similar sample spaces where the number of samples is the number of symmetries in the behavior of the objects that the forces act upon. Read [here](https://arxiv.org/pdf/hep-th/9712154.pdf) for a good introduction to symmetry groups in physics).\n",
    "\n",
    "This is all possible *n* combinations of *items*:\n",
    "```(python)\n",
    "itertools.combinations(items, n)\n",
    "```\n",
    "\n",
    "We will use the python `itertools.combinations` package to generate the combinations, and then join each combination into a string:\n",
    "\n",
    "```python\n",
    "import itertools\n",
    "\n",
    "def combinations(items, n):\n",
    "    \"All combinations of n items; each combination as a concatenated str.\"\n",
    "    return {' '.join(combo) \n",
    "            for combo in itertools.combinations(items, n)}\n",
    "\n",
    "U6 = combinations(urn, 6)\n",
    "len(U6)\n",
    "```"
   ]
  },
  {
   "cell_type": "code",
   "execution_count": 9,
   "metadata": {
    "button": false,
    "new_sheet": false,
    "run_control": {
     "read_only": false
    }
   },
   "outputs": [
    {
     "data": {
      "text/plain": [
       "100947"
      ]
     },
     "execution_count": 9,
     "metadata": {},
     "output_type": "execute_result"
    }
   ],
   "source": [
    "import itertools\n",
    "\n",
    "def combinations(items, n):\n",
    "    \"All combinations of n items; each combination as a concatenated str.\"\n",
    "    return {' '.join(combo) \n",
    "            for combo in itertools.combinations(items, n)}\n",
    "\n",
    "U6 = combinations(urn, 6)\n",
    "len(U6)"
   ]
  },
  {
   "cell_type": "markdown",
   "metadata": {
    "button": false,
    "new_sheet": false,
    "run_control": {
     "read_only": false
    }
   },
   "source": [
    "You should find that there are 100,947 members in our sample space. To take a peek at a random sample of 10 of them (you should always take a peek at big datasets in Data Science. *Always*):\n",
    "\n",
    "```python\n",
    "import random\n",
    "random.sample(U6, 10)\n",
    "```"
   ]
  },
  {
   "cell_type": "code",
   "execution_count": 10,
   "metadata": {
    "button": false,
    "new_sheet": false,
    "run_control": {
     "read_only": false
    }
   },
   "outputs": [
    {
     "data": {
      "text/plain": [
       "['B6 W1 W3 W2 W4 R2',\n",
       " 'R9 W7 R6 R7 R8 R3',\n",
       " 'B1 W3 B2 R7 R8 B3',\n",
       " 'W1 W3 W4 R1 R7 R3',\n",
       " 'B1 W5 R2 R7 R8 R3',\n",
       " 'W1 W3 W2 R6 R8 B5',\n",
       " 'B1 W5 R9 R2 R7 B4',\n",
       " 'B1 R5 W5 W2 B2 R7',\n",
       " 'B1 R5 W2 R6 R8 B3',\n",
       " 'W2 W4 R2 W8 R6 R3']"
      ]
     },
     "execution_count": 10,
     "metadata": {},
     "output_type": "execute_result"
    }
   ],
   "source": [
    "import random\n",
    "a = random.sample(sorted(U6), 10)\n",
    "a"
   ]
  },
  {
   "cell_type": "markdown",
   "metadata": {
    "button": false,
    "new_sheet": false,
    "run_control": {
     "read_only": false
    }
   },
   "source": [
    "Now, let's verify with math.\n",
    "\n",
    "We can pick any of 23 balls for the first item, any of 22 for the second, ..., and any of 18 for the sixth. But since we don't care about the ordering of the six items, we divide the product by 6! (the number of possible combinations of 6 things) and thus:\n",
    "\n",
    "$$23 ~\\mbox{choose}~ 6 = \\frac{23 \\cdot 22 \\cdot 21 \\cdot 20 \\cdot 19 \\cdot 18}{6!} = 100947$$\n",
    "\n",
    "But since $23 \\cdot 22 \\cdot 21 \\cdot 20 \\cdot 19 \\cdot 18 = 23! \\;/\\; 17!$, we can write:\n",
    "\n",
    "$$n ~\\mbox{choose}~ c = \\frac{n!}{(n - c)! \\cdot c!}$$\n",
    "\n",
    "To translate that to code, use the following, and note that\n",
    "* Python has two division operators, a single slash `/` character for classic division and a double-slash `//` for *floor* division (rounds down to nearest whole number). Classic division means that if the operands are both integers, it will perform floor division, while for floating point numbers, it represents true division.\n",
    "\n",
    "```python\n",
    "from math import factorial\n",
    "\n",
    "def choose(n, c):\n",
    "    \"\"\"Number of ways to choose c items from a list of n items.\"\"\"\n",
    "    return factorial(n) // (factorial(n - c) * factorial(c))\n",
    "choose(23, 6)\n",
    "```\n"
   ]
  },
  {
   "cell_type": "code",
   "execution_count": 11,
   "metadata": {
    "button": false,
    "new_sheet": false,
    "run_control": {
     "read_only": false
    }
   },
   "outputs": [
    {
     "data": {
      "text/plain": [
       "100947"
      ]
     },
     "execution_count": 11,
     "metadata": {},
     "output_type": "execute_result"
    }
   ],
   "source": [
    "from math import factorial\n",
    "\n",
    "def choose(n, c):\n",
    "    \"\"\"Number of ways to choose c items from a list of n items.\"\"\"\n",
    "    return factorial(n) // (factorial(n - c) * factorial(c))\n",
    "choose(23, 6)"
   ]
  },
  {
   "cell_type": "code",
   "execution_count": 12,
   "metadata": {},
   "outputs": [
    {
     "data": {
      "text/plain": [
       "100947"
      ]
     },
     "execution_count": 12,
     "metadata": {},
     "output_type": "execute_result"
    }
   ],
   "source": [
    "# try\n",
    "def f(n):\n",
    "    if n == 1:\n",
    "        return n\n",
    "    return f(n-1)*n\n",
    "\n",
    "def choose1(n,c):\n",
    "    return f(n) // (f(n-c)*f(c))\n",
    "choose1(23,6)"
   ]
  },
  {
   "cell_type": "markdown",
   "metadata": {
    "button": false,
    "new_sheet": false,
    "run_control": {
     "read_only": false
    }
   },
   "source": [
    "To note:\n",
    "* `count()` is the python function that returns the *cardinal* (a.k.a *length*) of a sequence (a.k.a. list/set/tuple/dict), filtered by an argument. True statement: ```'foobar'.count('o') == 2```. \n",
    "\n",
    "Now we're ready to answer the 4 problems: \n",
    "\n",
    "### Urn Problem 1: what's the probability of selecting 6 red balls? \n",
    "\n",
    "```python\n",
    "red6 = {b for b in U6 if b.count(...) == ...}  # fill in the ...\n",
    "print(red6)\n",
    "p(red6, U6)\n",
    "```\n",
    "\n",
    "Go ahead, cut and paste below and replace `...` with the right answer. Then verify your answer by running the code below and ensuring that it's the probability for picking 6 our of 9 balls in an unordered fashion out of sample space U6:\n",
    "```python\n",
    "p(red6, U6) == Fraction(choose(9, 6), \n",
    "                        len(U6))\n",
    "```"
   ]
  },
  {
   "cell_type": "code",
   "execution_count": 13,
   "metadata": {
    "button": false,
    "new_sheet": false,
    "run_control": {
     "read_only": false
    }
   },
   "outputs": [
    {
     "name": "stdout",
     "output_type": "stream",
     "text": [
      "{'R9 R2 R1 R7 R8 R3', 'R5 R4 R1 R6 R8 R3', 'R5 R9 R1 R7 R8 R3', 'R5 R4 R9 R2 R1 R7', 'R5 R4 R9 R1 R6 R8', 'R5 R4 R9 R7 R8 R3', 'R5 R4 R2 R6 R7 R3', 'R4 R9 R2 R1 R6 R3', 'R4 R9 R2 R1 R8 R3', 'R5 R4 R9 R2 R1 R8', 'R4 R2 R1 R6 R8 R3', 'R4 R9 R2 R6 R7 R3', 'R5 R9 R2 R1 R7 R3', 'R5 R9 R1 R6 R8 R3', 'R5 R4 R9 R2 R1 R6', 'R5 R2 R1 R6 R8 R3', 'R5 R4 R1 R7 R8 R3', 'R5 R9 R2 R1 R6 R3', 'R5 R4 R9 R1 R6 R3', 'R9 R2 R6 R7 R8 R3', 'R4 R9 R2 R6 R8 R3', 'R4 R9 R2 R1 R6 R7', 'R5 R4 R1 R6 R7 R3', 'R5 R9 R2 R1 R6 R7', 'R5 R4 R9 R2 R7 R3', 'R5 R2 R1 R6 R7 R8', 'R4 R9 R2 R1 R7 R3', 'R5 R4 R9 R2 R6 R8', 'R5 R4 R2 R6 R7 R8', 'R5 R9 R1 R6 R7 R8', 'R5 R4 R1 R6 R7 R8', 'R4 R9 R1 R6 R7 R8', 'R5 R4 R2 R6 R8 R3', 'R5 R4 R9 R2 R7 R8', 'R5 R4 R9 R6 R7 R8', 'R5 R9 R2 R1 R8 R3', 'R5 R4 R9 R6 R7 R3', 'R5 R2 R6 R7 R8 R3', 'R5 R4 R2 R7 R8 R3', 'R5 R2 R1 R7 R8 R3', 'R5 R4 R9 R2 R8 R3', 'R5 R4 R9 R1 R7 R3', 'R9 R2 R1 R6 R7 R8', 'R5 R4 R2 R1 R8 R3', 'R4 R2 R1 R6 R7 R3', 'R5 R4 R9 R2 R1 R3', 'R5 R4 R9 R1 R8 R3', 'R5 R4 R2 R1 R7 R3', 'R5 R4 R2 R1 R6 R3', 'R4 R9 R1 R6 R8 R3', 'R9 R2 R1 R6 R7 R3', 'R9 R2 R1 R6 R8 R3', 'R5 R9 R2 R7 R8 R3', 'R5 R9 R2 R6 R8 R3', 'R5 R9 R6 R7 R8 R3', 'R4 R9 R1 R6 R7 R3', 'R5 R9 R1 R6 R7 R3', 'R5 R4 R9 R1 R7 R8', 'R5 R2 R1 R6 R7 R3', 'R5 R9 R2 R6 R7 R8', 'R4 R9 R1 R7 R8 R3', 'R5 R4 R2 R1 R6 R7', 'R5 R9 R2 R1 R6 R8', 'R5 R4 R9 R2 R6 R3', 'R4 R9 R2 R6 R7 R8', 'R4 R9 R6 R7 R8 R3', 'R5 R9 R2 R1 R7 R8', 'R4 R1 R6 R7 R8 R3', 'R4 R9 R2 R1 R7 R8', 'R5 R9 R2 R6 R7 R3', 'R5 R4 R9 R2 R6 R7', 'R4 R9 R2 R1 R6 R8', 'R5 R4 R9 R1 R6 R7', 'R4 R2 R6 R7 R8 R3', 'R5 R4 R9 R6 R8 R3', 'R5 R4 R2 R1 R7 R8', 'R5 R4 R2 R1 R6 R8', 'R4 R2 R1 R7 R8 R3', 'R5 R4 R6 R7 R8 R3', 'R4 R9 R2 R7 R8 R3', 'R5 R1 R6 R7 R8 R3', 'R4 R2 R1 R6 R7 R8', 'R9 R1 R6 R7 R8 R3', 'R2 R1 R6 R7 R8 R3'}\n"
     ]
    }
   ],
   "source": [
    "red6 = {b for b in U6 if b.count('R') == 6}  # fill in the ...\n",
    "print(red6)\n"
   ]
  },
  {
   "cell_type": "code",
   "execution_count": 14,
   "metadata": {},
   "outputs": [
    {
     "data": {
      "text/plain": [
       "True"
      ]
     },
     "execution_count": 14,
     "metadata": {},
     "output_type": "execute_result"
    }
   ],
   "source": [
    "p(red6, U6)\n",
    "p(red6, U6) == Fraction(choose(9, 6), \n",
    "                        len(U6))"
   ]
  },
  {
   "cell_type": "markdown",
   "metadata": {
    "button": false,
    "new_sheet": false,
    "run_control": {
     "read_only": false
    }
   },
   "source": [
    "### Urn Problem 2: what is the probability of selecting 3 blue, 2 white, and 1 red?\n",
    "\n",
    "```python\n",
    "b3w2r1 = {s for s in U6 if ...}\n",
    "p(b3w2r1, U6)\n",
    "```\n",
    "\n",
    "and verify that it's equal to the probability of picking 3 blue out of 6 and 2 white out of 8 and 1 red out of 9:\n",
    "```python\n",
    "p(b3w2r1, U6) == Fraction(choose(6, 3) * choose(8, 2) * choose(9, 1), \n",
    "                          len(U6))\n",
    "```\n",
    "\n",
    "You can also reason that there are 6 ways to pick the first blue, 5 ways to pick the second blue, and 4 ways to pick the third. Then 8 ways to pick the first white and 7 to pick the second. Then 9 ways to pick a red. But the order 'B1, B2, B3' should count as the same as 'B2, B3, B1' and all the other orderings; so divide by 3! to account for the permutations of blues, by 2! to account for the permutations of whites, and finally by 100947 to get a probability."
   ]
  },
  {
   "cell_type": "code",
   "execution_count": 15,
   "metadata": {
    "button": false,
    "new_sheet": false,
    "run_control": {
     "read_only": false
    }
   },
   "outputs": [
    {
     "data": {
      "text/plain": [
       "Fraction(240, 4807)"
      ]
     },
     "execution_count": 15,
     "metadata": {},
     "output_type": "execute_result"
    }
   ],
   "source": [
    "b3w2r1 = {s for s in U6 if (s.count('B')==3 and s.count('W')==2 and s.count('R')==1)}\n",
    "p(b3w2r1, U6)"
   ]
  },
  {
   "cell_type": "code",
   "execution_count": 16,
   "metadata": {},
   "outputs": [
    {
     "data": {
      "text/plain": [
       "True"
      ]
     },
     "execution_count": 16,
     "metadata": {},
     "output_type": "execute_result"
    }
   ],
   "source": [
    "p(b3w2r1, U6) == Fraction(choose(6, 3) * choose(8, 2) * choose(9, 1), \n",
    "                          len(U6))"
   ]
  },
  {
   "cell_type": "markdown",
   "metadata": {
    "button": false,
    "new_sheet": false,
    "run_control": {
     "read_only": false
    }
   },
   "source": [
    "### Urn Problem 3: What is the probability of *exactly* 4 white balls?\n",
    "\n",
    "In other words, choosing 4 out of the 8 white balls and 2 out of the 15 non-white balls.\n",
    "```python\n",
    "w4 = {s for s in U6 if\n",
    "      ...}\n",
    "\n",
    "p(w4, U6)\n",
    "\n",
    "p(w4, U6) == Fraction(choose(8, 4) * choose(15, 2),\n",
    "                      len(U6))\n",
    "\n",
    "p(w4, U6) == Fraction((8 * 7 * 6 * 5) * (15 * 14),\n",
    "                      factorial(4) * factorial(2) * len(U6))\n",
    "```"
   ]
  },
  {
   "cell_type": "code",
   "execution_count": 17,
   "metadata": {
    "button": false,
    "new_sheet": false,
    "run_control": {
     "read_only": false
    }
   },
   "outputs": [
    {
     "data": {
      "text/plain": [
       "True"
      ]
     },
     "execution_count": 17,
     "metadata": {},
     "output_type": "execute_result"
    }
   ],
   "source": [
    "\n",
    "\n",
    "w4 = {s for s in U6 if\n",
    "      s.count('W') == 4}\n",
    "\n",
    "p(w4, U6)\n",
    "\n",
    "p(w4, U6) == Fraction(choose(8, 4) * choose(15, 2),\n",
    "                      len(U6))\n",
    "\n",
    "p(w4, U6) == Fraction((8 * 7 * 6 * 5) * (15 * 14),\n",
    "                      factorial(4) * factorial(2) * len(U6))"
   ]
  },
  {
   "cell_type": "markdown",
   "metadata": {
    "button": false,
    "new_sheet": false,
    "run_control": {
     "read_only": false
    }
   },
   "source": [
    "# 4. Working with transformations instead of collections\n",
    "\n",
    "<br />\n",
    "<center>\n",
    "<img src=\"http://agilitrix.com/wp-content/uploads/2013/02/1-Transformation.jpg\"  width=\"500\" />\n",
    "</center>\n",
    "\n",
    "Sometimes we don't have a straightforward way to easily enumerate all possible samples in a sample space, but we have an easy way of defining a **transformation** that will yield a desired sample. In other words, we want to work with **lambdas** instead of **objects**. \n",
    "\n",
    "Write a ***generator*** for natural numbers, a compact, transformation-based way of defining natural numbers so that we don't have to write a lot of data:"
   ]
  },
  {
   "cell_type": "code",
   "execution_count": 18,
   "metadata": {},
   "outputs": [],
   "source": [
    "def numbers():\n",
    "    i = 0\n",
    "    while True:\n",
    "        yield i\n",
    "        i += 1"
   ]
  },
  {
   "cell_type": "code",
   "execution_count": 19,
   "metadata": {},
   "outputs": [
    {
     "data": {
      "text/plain": [
       "<generator object numbers at 0x000002603909DC00>"
      ]
     },
     "execution_count": 19,
     "metadata": {},
     "output_type": "execute_result"
    }
   ],
   "source": [
    "numbers()"
   ]
  },
  {
   "cell_type": "markdown",
   "metadata": {},
   "source": [
    "And here's how to consume the generator (a bit ugly, granted, can you improve on this, i.e. no `break` statement?):"
   ]
  },
  {
   "cell_type": "code",
   "execution_count": 20,
   "metadata": {},
   "outputs": [
    {
     "name": "stdout",
     "output_type": "stream",
     "text": [
      "[(0, 'B1 B6 W2 R7 W6 B3'), (1, 'R5 W5 W4 W8 R1 R3'), (2, 'B1 R5 W3 R4 W4 B3'), (3, 'R5 W3 B2 W7 B4 B5'), (4, 'W2 R4 W4 R8 W6 B4'), (5, 'B1 W3 W4 R1 R7 R8'), (6, 'R5 W5 W8 R1 B4 B5'), (7, 'B6 R5 W8 W6 B5 R3'), (8, 'W1 W5 W3 R9 R7 B4'), (9, 'W1 W5 R9 R1 R6 B3'), (10, 'B1 W4 R7 R8 B4 B3')]\n"
     ]
    }
   ],
   "source": [
    "my_list = []\n",
    "for j,k in enumerate(((i,b) for i,b in enumerate(U6))):\n",
    "    my_list.append(k) \n",
    "    if j == 10:\n",
    "        break\n",
    "print(my_list)"
   ]
  },
  {
   "cell_type": "code",
   "execution_count": 21,
   "metadata": {},
   "outputs": [
    {
     "name": "stdout",
     "output_type": "stream",
     "text": [
      "[0, 1, 2, 3, 4, 5, 6, 7, 8, 9, 10, 11, 12, 13, 14, 15, 16, 17, 18, 19, 20, 21, 22, 23, 24, 25, 26, 27, 28, 29, 30, 31, 32, 33, 34, 35, 36, 37, 38, 39, 40, 41, 42, 43, 44, 45, 46, 47, 48, 49, 50, 51, 52, 53, 54, 55, 56, 57, 58, 59, 60, 61, 62, 63, 64, 65, 66, 67, 68, 69, 70, 71, 72, 73, 74, 75, 76, 77, 78, 79, 80, 81, 82, 83, 84, 85, 86, 87, 88, 89, 90, 91, 92, 93, 94, 95, 96, 97, 98, 99, 100]\n"
     ]
    }
   ],
   "source": [
    "import queue as Q #FIFO a stack is FILO\n",
    "q = Q.Queue()\n",
    "for index, item in enumerate(numbers()):\n",
    "    q.put(item)\n",
    "    if index == 100:\n",
    "        break\n",
    "print(list(q.queue))"
   ]
  },
  {
   "cell_type": "markdown",
   "metadata": {},
   "source": [
    "In the case of the die roll, I can define an `even` lambda: "
   ]
  },
  {
   "cell_type": "code",
   "execution_count": 22,
   "metadata": {
    "button": false,
    "new_sheet": false,
    "run_control": {
     "read_only": false
    }
   },
   "outputs": [],
   "source": [
    "def even(n): \n",
    "    return n % 2 == 0"
   ]
  },
  {
   "cell_type": "code",
   "execution_count": 23,
   "metadata": {},
   "outputs": [
    {
     "data": {
      "text/plain": [
       "True"
      ]
     },
     "execution_count": 23,
     "metadata": {},
     "output_type": "execute_result"
    }
   ],
   "source": [
    "callable(even)"
   ]
  },
  {
   "cell_type": "code",
   "execution_count": 24,
   "metadata": {},
   "outputs": [
    {
     "data": {
      "text/plain": [
       "function"
      ]
     },
     "execution_count": 24,
     "metadata": {},
     "output_type": "execute_result"
    }
   ],
   "source": [
    "type(even)"
   ]
  },
  {
   "cell_type": "code",
   "execution_count": 25,
   "metadata": {},
   "outputs": [
    {
     "data": {
      "text/plain": [
       "True"
      ]
     },
     "execution_count": 25,
     "metadata": {},
     "output_type": "execute_result"
    }
   ],
   "source": [
    "is_preidicate = callable\n",
    "is_preidicate(even)"
   ]
  },
  {
   "cell_type": "code",
   "execution_count": 26,
   "metadata": {},
   "outputs": [
    {
     "data": {
      "text/plain": [
       "set"
      ]
     },
     "execution_count": 26,
     "metadata": {},
     "output_type": "execute_result"
    }
   ],
   "source": [
    "type(D)"
   ]
  },
  {
   "cell_type": "code",
   "execution_count": 27,
   "metadata": {},
   "outputs": [],
   "source": [
    "def p(event, space): \n",
    "    \"The probability of an event, given a sample space of equiprobable outcomes.\"\n",
    "    return {i for i in space if event(i)}"
   ]
  },
  {
   "cell_type": "code",
   "execution_count": 28,
   "metadata": {},
   "outputs": [
    {
     "data": {
      "text/plain": [
       "{2, 4, 6}"
      ]
     },
     "execution_count": 28,
     "metadata": {},
     "output_type": "execute_result"
    }
   ],
   "source": [
    "p(even, D)"
   ]
  },
  {
   "cell_type": "code",
   "execution_count": 29,
   "metadata": {},
   "outputs": [],
   "source": [
    "even = {10}"
   ]
  },
  {
   "cell_type": "code",
   "execution_count": 30,
   "metadata": {},
   "outputs": [
    {
     "data": {
      "text/plain": [
       "False"
      ]
     },
     "execution_count": 30,
     "metadata": {},
     "output_type": "execute_result"
    }
   ],
   "source": [
    "callable(even)"
   ]
  },
  {
   "cell_type": "markdown",
   "metadata": {},
   "source": [
    "So how do we change our probability function `p` so that instead of having the first element be the set of all favorable outcomes, we have the first element be a ***transformation*** that yields the set of favorable events? The second element remains the set of *all possible events***.\n",
    "\n",
    "In order to make `p(even, D)` work, I'll have to modify `p` to accept an event as either\n",
    "a *set* of outcomes (as before), or a *predicate* over outcomes&mdash;a function that returns true for an outcome that is in the event."
   ]
  },
  {
   "cell_type": "markdown",
   "metadata": {},
   "source": [
    "## Exercise: \n",
    "Please write down the new function `p(event, space)` using an `if` clause, and the following helper function `such_that` which applies a transformation (using a ***predicate*** argument, and a ***collection*** argument) to all possible outcomes to yield just the desired ones. \n",
    "\n",
    "A predicate is just a function that returns **true** or **false**.\n",
    "\n",
    "```(python)\n",
    "def such_that(predicate, collection): \n",
    "    \"\"\"The subset of elements in the collection for which the predicate is true.\"\"\"\n",
    "    return {e for e in collection if predicate(e)}\n",
    "```\n",
    "\n",
    "Here's another hint: In python, to determine if something is a function, run the `callable` function on it, like so:\n",
    "```(python)\n",
    "callable(whatsthis)\n",
    "```"
   ]
  },
  {
   "cell_type": "code",
   "execution_count": 31,
   "metadata": {},
   "outputs": [],
   "source": [
    "from fractions import Fraction\n",
    "def p(event, space): \n",
    "    \"The probability of an event, given a sample space of equiprobable outcomes.\"\n",
    "    if callable(event):\n",
    "        return {i for i in space if event(i)}\n",
    "    return Fraction(len(event & space), \n",
    "                    len(space))"
   ]
  },
  {
   "cell_type": "code",
   "execution_count": 32,
   "metadata": {},
   "outputs": [],
   "source": [
    "space = {1, 2, 3, 4, 5, 6}\n",
    "even = {2, 4, 6}"
   ]
  },
  {
   "cell_type": "code",
   "execution_count": 33,
   "metadata": {},
   "outputs": [],
   "source": [
    "def even(n): return n % 2 == 0"
   ]
  },
  {
   "cell_type": "code",
   "execution_count": 34,
   "metadata": {},
   "outputs": [
    {
     "data": {
      "text/plain": [
       "True"
      ]
     },
     "execution_count": 34,
     "metadata": {},
     "output_type": "execute_result"
    }
   ],
   "source": [
    "callable(even)"
   ]
  },
  {
   "cell_type": "code",
   "execution_count": 35,
   "metadata": {},
   "outputs": [
    {
     "data": {
      "text/plain": [
       "{2, 4, 6}"
      ]
     },
     "execution_count": 35,
     "metadata": {},
     "output_type": "execute_result"
    }
   ],
   "source": [
    "p(even, space)"
   ]
  },
  {
   "cell_type": "code",
   "execution_count": 36,
   "metadata": {},
   "outputs": [],
   "source": [
    "from fractions import Fraction\n",
    "\n",
    "def p(event, space): \n",
    "    \"\"\"The probability of an event, given a sample space of equiprobable outcomes.\n",
    "    event can be either a set of outcomes, or a predicate (true for outcomes in the event).\"\"\"\n",
    "    if is_predicate(event):\n",
    "        event = such_that(event,space)\n",
    "    return Fraction(len(event & space), len(space))\n",
    "\n",
    "is_predicate = callable\n",
    "\n",
    "def such_that(predicate, collection): \n",
    "    \"\"\"The subset of elements in the collection for which the predicate is true.\"\"\"\n",
    "    if callable(predicate):\n",
    "        return {e for e in collection if predicate(e)}\n",
    "    else:\n",
    "        return {e for e in collection if e in predicate}"
   ]
  },
  {
   "cell_type": "code",
   "execution_count": 37,
   "metadata": {},
   "outputs": [],
   "source": [
    "def even(n): return n % 2 == 0"
   ]
  },
  {
   "cell_type": "code",
   "execution_count": 38,
   "metadata": {},
   "outputs": [],
   "source": [
    "even = {2, 4, 6}"
   ]
  },
  {
   "cell_type": "code",
   "execution_count": 39,
   "metadata": {},
   "outputs": [
    {
     "data": {
      "text/plain": [
       "False"
      ]
     },
     "execution_count": 39,
     "metadata": {},
     "output_type": "execute_result"
    }
   ],
   "source": [
    "callable(even)"
   ]
  },
  {
   "cell_type": "code",
   "execution_count": 40,
   "metadata": {},
   "outputs": [
    {
     "data": {
      "text/plain": [
       "Fraction(1, 2)"
      ]
     },
     "execution_count": 40,
     "metadata": {},
     "output_type": "execute_result"
    }
   ],
   "source": [
    "p(even, D)"
   ]
  },
  {
   "cell_type": "markdown",
   "metadata": {},
   "source": [
    "<div style=\"display:none;\">\n",
    "def p(event, space): \n",
    "    \"\"\"The probability of an event, given a sample space of equiprobable outcomes.\n",
    "    event can be either a set of outcomes, or a predicate (true for outcomes in the event).\"\"\"\n",
    "    he he... nice try, but you need to write this, not me!\n",
    "</div> "
   ]
  },
  {
   "cell_type": "markdown",
   "metadata": {
    "button": false,
    "new_sheet": false,
    "run_control": {
     "read_only": false
    }
   },
   "source": [
    "Here below we see how `such_that`, the new `even` predicate, and the new `p` work:"
   ]
  },
  {
   "cell_type": "code",
   "execution_count": 41,
   "metadata": {},
   "outputs": [],
   "source": [
    "D = {1, 2, 3, 4, 5, 6}"
   ]
  },
  {
   "cell_type": "code",
   "execution_count": 42,
   "metadata": {
    "button": false,
    "new_sheet": false,
    "run_control": {
     "read_only": false
    }
   },
   "outputs": [
    {
     "data": {
      "text/plain": [
       "{2, 4, 6}"
      ]
     },
     "execution_count": 42,
     "metadata": {},
     "output_type": "execute_result"
    }
   ],
   "source": [
    "such_that(even, D)"
   ]
  },
  {
   "cell_type": "code",
   "execution_count": 43,
   "metadata": {
    "button": false,
    "new_sheet": false,
    "run_control": {
     "read_only": false
    }
   },
   "outputs": [
    {
     "data": {
      "text/plain": [
       "Fraction(1, 2)"
      ]
     },
     "execution_count": 43,
     "metadata": {},
     "output_type": "execute_result"
    }
   ],
   "source": [
    "p(even, D)"
   ]
  },
  {
   "cell_type": "code",
   "execution_count": 44,
   "metadata": {},
   "outputs": [
    {
     "data": {
      "text/plain": [
       "Fraction(1, 2)"
      ]
     },
     "execution_count": 44,
     "metadata": {},
     "output_type": "execute_result"
    }
   ],
   "source": [
    "p({2,4,6},D)"
   ]
  },
  {
   "cell_type": "code",
   "execution_count": 45,
   "metadata": {
    "button": false,
    "new_sheet": false,
    "run_control": {
     "read_only": false
    }
   },
   "outputs": [
    {
     "data": {
      "text/plain": [
       "{2, 4, 6}"
      ]
     },
     "execution_count": 45,
     "metadata": {},
     "output_type": "execute_result"
    }
   ],
   "source": [
    "D12 = {1, 2, 3, 4, 5, 6, 7, 8, 9, 10, 11, 12}\n",
    "\n",
    "such_that(even, D12)"
   ]
  },
  {
   "cell_type": "code",
   "execution_count": 46,
   "metadata": {
    "button": false,
    "new_sheet": false,
    "run_control": {
     "read_only": false
    }
   },
   "outputs": [
    {
     "data": {
      "text/plain": [
       "Fraction(1, 4)"
      ]
     },
     "execution_count": 46,
     "metadata": {},
     "output_type": "execute_result"
    }
   ],
   "source": [
    "p(even, D12)"
   ]
  },
  {
   "cell_type": "markdown",
   "metadata": {
    "button": false,
    "new_sheet": false,
    "run_control": {
     "read_only": false
    }
   },
   "source": [
    "Note: `such_that` is just like the built-in python function `filter` (recall that we talked about the most important built-in functions in python for Data Science: `map`, `reduce`, and `filter`), except that `such_that` returns a *set*.\n",
    "\n",
    "We can now define more interesting events using predicates; for example we can determine the probability that the sum of a three-dice roll is *prime*:\n",
    "\n",
    "```python\n",
    "D = {1,2,3,4,5,6}\n",
    "\n",
    "D3 = {(d1, d2, d3) for d1 in D for d2 in D for d3 in D}\n",
    "\n",
    "def prime_sum(outcome): return is_prime(sum(outcome))\n",
    "\n",
    "def is_prime(n): return ...  # implement is_prime()!\n",
    "\n",
    "p(prime_sum, D3)\n",
    "```\n",
    "\n",
    "Go ahead, please implement `is_prime()`, a predicate function.\n",
    "\n",
    "## Homework *for Thursday (this week, not next week!)*\n",
    "Determine the probability that the sum of a three-dice roll is *prime*."
   ]
  },
  {
   "cell_type": "code",
   "execution_count": 47,
   "metadata": {},
   "outputs": [
    {
     "data": {
      "text/plain": [
       "False"
      ]
     },
     "execution_count": 47,
     "metadata": {},
     "output_type": "execute_result"
    }
   ],
   "source": [
    "def is_prime(n):\n",
    "    # n should > 1\n",
    "    if n <= 1:\n",
    "        return False\n",
    "    # 2 and 3 is prime\n",
    "    if n <= 3:\n",
    "        return True\n",
    "    # prime is not even\n",
    "    if n % 2 == 0:\n",
    "        return False\n",
    "    # start from 3\n",
    "    i = 3\n",
    "    # till sqrt(n)\n",
    "    while i * i <= n:\n",
    "        if n % i == 0:\n",
    "            return False\n",
    "        # odd number + 2\n",
    "        i += 2\n",
    "    return True\n",
    "is_prime(100)"
   ]
  },
  {
   "cell_type": "code",
   "execution_count": 48,
   "metadata": {},
   "outputs": [
    {
     "name": "stdout",
     "output_type": "stream",
     "text": [
      "{(5, 1, 6), (5, 3, 3), (5, 4, 2), (2, 1, 6), (1, 6, 6), (2, 2, 5), (6, 6, 4), (3, 2, 1), (2, 6, 5), (5, 2, 4), (5, 5, 3), (3, 1, 5), (3, 3, 2), (3, 6, 1), (4, 1, 2), (2, 4, 5), (6, 4, 6), (5, 3, 5), (5, 4, 4), (5, 6, 1), (3, 5, 2), (6, 1, 1), (4, 4, 3), (5, 2, 6), (1, 3, 2), (5, 5, 5), (3, 3, 4), (3, 6, 3), (4, 1, 4), (4, 3, 1), (6, 2, 2), (1, 1, 2), (5, 1, 1), (5, 4, 6), (1, 5, 2), (5, 6, 3), (1, 6, 1), (3, 5, 4), (6, 1, 3), (4, 2, 2), (4, 4, 5), (4, 6, 2), (6, 5, 3), (1, 3, 4), (1, 4, 3), (3, 3, 6), (3, 4, 5), (4, 1, 6), (6, 2, 4), (6, 4, 4), (1, 1, 4), (5, 1, 3), (1, 5, 4), (5, 6, 5), (1, 6, 3), (2, 2, 2), (3, 5, 6), (4, 2, 4), (6, 1, 5), (2, 6, 2), (2, 5, 4), (5, 2, 1), (4, 6, 4), (3, 1, 2), (4, 5, 6), (6, 5, 5), (1, 3, 6), (1, 4, 5), (2, 4, 2), (6, 2, 6), (2, 3, 6), (5, 1, 5), (5, 3, 2), (5, 4, 1), (1, 5, 6), (1, 6, 5), (2, 2, 4), (4, 2, 6), (6, 3, 1), (2, 6, 4), (2, 5, 6), (5, 2, 3), (1, 2, 1), (3, 1, 4), (3, 3, 1), (3, 2, 3), (4, 6, 6), (6, 6, 6), (5, 4, 3), (3, 5, 1), (2, 1, 1), (6, 3, 3), (4, 4, 2), (4, 5, 1), (2, 6, 6), (5, 2, 5), (1, 3, 1), (1, 2, 3), (3, 1, 6), (3, 3, 3), (3, 2, 5), (3, 4, 2), (2, 3, 1), (3, 6, 5), (4, 3, 3), (6, 4, 1), (5, 4, 5), (1, 5, 1), (3, 5, 3), (6, 1, 2), (2, 1, 3), (2, 5, 1), (4, 4, 4), (4, 6, 1), (4, 5, 3), (6, 3, 5), (6, 5, 2), (1, 3, 3), (1, 2, 5), (1, 4, 2), (3, 3, 5), (6, 6, 1), (3, 4, 4), (2, 3, 3), (4, 3, 5), (6, 4, 3), (1, 1, 6), (1, 6, 2), (6, 1, 4), (2, 1, 5), (2, 5, 3), (4, 4, 6), (4, 6, 3), (3, 1, 1), (4, 5, 5), (6, 5, 4), (6, 6, 3), (1, 4, 4), (3, 4, 6), (5, 5, 2), (4, 1, 1), (2, 3, 5), (2, 4, 4), (6, 4, 5), (1, 6, 4), (5, 3, 4), (2, 2, 6), (2, 5, 5), (5, 2, 2), (6, 5, 6), (3, 1, 3), (6, 6, 5), (3, 2, 2), (1, 4, 6), (5, 5, 4), (3, 6, 2), (4, 1, 3), (6, 2, 1), (2, 4, 6), (1, 1, 1), (5, 3, 6), (5, 6, 2), (6, 3, 2), (4, 4, 1), (4, 2, 1), (1, 2, 2), (3, 2, 4), (3, 4, 1), (5, 5, 6), (3, 6, 4), (4, 1, 5), (4, 3, 2), (6, 2, 3), (1, 1, 3), (5, 1, 2), (1, 5, 3), (2, 1, 2), (2, 2, 1), (3, 5, 5), (5, 6, 4), (4, 2, 3), (4, 5, 2), (6, 3, 4), (6, 5, 1), (1, 2, 4), (1, 4, 1), (2, 6, 1), (3, 2, 6), (3, 4, 3), (1, 3, 5), (2, 3, 2), (3, 6, 6), (2, 4, 1), (4, 3, 4), (6, 2, 5), (6, 4, 2), (1, 1, 5), (5, 1, 4), (5, 3, 1), (1, 5, 5), (2, 1, 4), (2, 2, 3), (2, 5, 2), (5, 6, 6), (4, 2, 5), (4, 5, 4), (6, 1, 6), (6, 3, 6), (6, 6, 2), (1, 2, 6), (2, 6, 3), (5, 5, 1), (4, 6, 5), (2, 3, 4), (2, 4, 3), (4, 3, 6)}\n"
     ]
    }
   ],
   "source": [
    "D = {1,2,3,4,5,6}\n",
    "\n",
    "D3 = {(d1, d2, d3) for d1 in D for d2 in D for d3 in D}\n",
    "print(D3)"
   ]
  },
  {
   "cell_type": "code",
   "execution_count": 49,
   "metadata": {},
   "outputs": [
    {
     "data": {
      "text/plain": [
       "Fraction(73, 216)"
      ]
     },
     "execution_count": 49,
     "metadata": {},
     "output_type": "execute_result"
    }
   ],
   "source": [
    "def prime_sum(outcome):\n",
    "    return is_prime(sum(outcome))\n",
    "\n",
    "p(prime_sum, D3)"
   ]
  },
  {
   "cell_type": "code",
   "execution_count": 51,
   "metadata": {
    "scrolled": true
   },
   "outputs": [
    {
     "data": {
      "text/plain": [
       "0.0027397260273972603"
      ]
     },
     "execution_count": 51,
     "metadata": {},
     "output_type": "execute_result"
    }
   ],
   "source": [
    "# The probability that one of the n students has the same birthday as me\n",
    "shares_my_birthday(1)"
   ]
  },
  {
   "cell_type": "code",
   "execution_count": 52,
   "metadata": {},
   "outputs": [
    {
     "data": {
      "text/plain": [
       "0.002739726027397249"
      ]
     },
     "execution_count": 52,
     "metadata": {},
     "output_type": "execute_result"
    }
   ],
   "source": [
    "# The probability that two out of n students have the same birthday\n",
    "two_students_share_same_birthday(2)"
   ]
  },
  {
   "cell_type": "code",
   "execution_count": 50,
   "metadata": {},
   "outputs": [
    {
     "data": {
      "text/plain": [
       "True"
      ]
     },
     "execution_count": 50,
     "metadata": {},
     "output_type": "execute_result"
    }
   ],
   "source": [
    "shares_my_birthday(1)>two_students_share_same_birthday(2)"
   ]
  },
  {
   "cell_type": "markdown",
   "metadata": {},
   "source": [
    "In my opinion, they should be the same, because if I think of myself as another student, then both methods should give the same answer.\n",
    "If n is 50, then the probability of 50 students having the same birthday as me increases, but it is far less than that of 51 students having two students with the same birthday"
   ]
  },
  {
   "cell_type": "markdown",
   "metadata": {},
   "source": [
    "W4L1.ZIP. Provided by Dino Konstantopoulos."
   ]
  },
  {
   "cell_type": "markdown",
   "metadata": {},
   "source": [
    "# Conclusion \n",
    "**Probabilities** is all about *counting*: What's the number of alternate (quantum) universes that can exist? Computers are essentially counting machines. So we built a counting framework to let computers do the counting for us :-)\n",
    "\n",
    "Make sure you understand *everything* we did in this notebook, because data science will get more complicated.\n",
    "\n",
    "<br />\n",
    "<center>\n",
    "    <img src=\"ipynb.images/complicated.jpg\" width=400 />**Complicated**</a><br>unknown artist\n",
    "</center>\n",
    "\n",
    "# Homework *for next week*"
   ]
  },
  {
   "cell_type": "markdown",
   "metadata": {
    "jupyter": {
     "source_hidden": true
    }
   },
   "source": [
    "# F1\n",
    "\n",
    "[This](https://www.formula1.com/en/racing/2023.html) is the schedule for F1 races for 2023.\n",
    "\n",
    "<br />\n",
    "<center>\n",
    "    <img src=\"ipynb.images/bahrain-saud-23.png\" width=800 />\n",
    "</center>\n",
    "\n",
    "**Question 1** (30 points) [Max Verstappen](https://www.formula1.com/en/drivers/max-verstappen.html) rocks! But is he going to win it all again in 2023? The first two F1 races coming up in March: The **Bahrain Grand Prix** and the **Saudi Arabian Grand Prix** the weekend after. The 2022 driver standings are given [here](https://www.formula1.com/en/results.html/2022/drivers.html). Given these standings (*please do not use team standings given on the same Web site, use driver standings*), what is the Probability Distribution for each F1 driver to win the Bahrain Grand Prix? What is the Probability Distribution for each F1 driver to win *both* the Bahrain and Saudi Arabian Grand Prix? What is the probability for Ferrari to win both races? What is the probability for Ferrari to win at least one race? Note that Ferrari, and each other racing team, has two drivers per race.\n",
    "\n",
    "**Question 2** (30 points) If Ferrari wins the first race, what is the probability that Ferrari wins the next one? If Ferrari wins at least one of these two races, what is the probability Ferrari wins both races? How about Red Bull, Mercedes, and Alpine-Renault?\n",
    "\n",
    "**Question 3** (40 points) Ferrari wins one of these two races on a rainy day. What is the probability Ferrari wins both races, assuming races can be held on either rainy, sunny, cloudy, snowy or foggy days? Assume that rain, sun, clouds, snow, and fog are the only possible weather conditions on race tracks and there is an equal probability for each one of these weather events.\n",
    "\n",
    "You need to provide *proof* for your answers by using code, in the form of a function. `I think it's one in a million because Ferrari sucks` is not a good answer. Use the counting framework in this workbook."
   ]
  },
  {
   "cell_type": "markdown",
   "metadata": {},
   "source": [
    "**Hint**: Use `BGP` to denote the Probability Distribution of F1 driver wins at the Bahrain GP. Write driver initials as keys and driver wins as values in a dictionary that you pass to our function `ProbDist`.."
   ]
  },
  {
   "cell_type": "code",
   "execution_count": null,
   "metadata": {},
   "outputs": [],
   "source": [
    "class ProbDist(dict):\n",
    "    \"\"\"A Probability Distribution; an {outcome: probability} mapping.\"\"\"\n",
    "    def __init__(self, mapping=(), **kwargs):\n",
    "        self.update(mapping, **kwargs)\n",
    "        # Make probabilities sum to 1.0; assert no negative probabilities\n",
    "        total = sum(self.values())\n",
    "        for outcome in self:\n",
    "            self[outcome] = self[outcome] / total\n",
    "            assert self[outcome] >= 0"
   ]
  },
  {
   "cell_type": "code",
   "execution_count": null,
   "metadata": {},
   "outputs": [],
   "source": [
    "BGP = ProbDist(\n",
    "    MV = 454,\n",
    "    CL = 308,\n",
    "    SP = 305,\n",
    "    GR = 275,\n",
    "    CS = 246,\n",
    "    LH = 240\n",
    ")\n",
    "BGP"
   ]
  },
  {
   "cell_type": "markdown",
   "metadata": {},
   "source": [
    "**Hints**:\n",
    "\n",
    "<br />\n",
    "<center>\n",
    "    <img src=\"ipynb.images/joint-probabilities.png\" width=800 />\n",
    "</center>\n",
    "\n",
    "<br />\n",
    "<center>\n",
    "    <img src=\"ipynb.images/marginal-probabilities.png\" width=800 />\n",
    "</center>\n",
    "\n",
    ">**Example**: Suppose the probability that it rains tomrrow is 0.5, the probability that I'll be sunny is 0.15, and the probability of rainbows is 0.01.\n",
    "\n",
    "Then the probability that it rains ***or*** shines tomorrow is 0.5 + 0.15 - 0.01.  "
   ]
  }
 ],
 "metadata": {
  "kernelspec": {
   "display_name": "Python 3 (ipykernel)",
   "language": "python",
   "name": "python3"
  },
  "language_info": {
   "codemirror_mode": {
    "name": "ipython",
    "version": 3
   },
   "file_extension": ".py",
   "mimetype": "text/x-python",
   "name": "python",
   "nbconvert_exporter": "python",
   "pygments_lexer": "ipython3",
   "version": "3.11.0"
  }
 },
 "nbformat": 4,
 "nbformat_minor": 4
}
