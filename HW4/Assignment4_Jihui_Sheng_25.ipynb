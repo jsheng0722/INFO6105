{
 "cells": [
  {
   "cell_type": "markdown",
   "metadata": {},
   "source": [
    "<div style=\"text-align: right\">INFO 6105 Data Science Eng Methods and Tools, Lecture 2 Day 1</div>\n",
    "<div style=\"text-align: right\">Dino Konstantopoulos, 18 January 2024</div>\n",
    "\n",
    "# Dictionary Problem Homework\n",
    "Designed to help you learn container types, list comprehensions, and that functional data structure called *dictionaries* that replaces Objects in OO programming! "
   ]
  },
  {
   "cell_type": "markdown",
   "metadata": {},
   "source": [
    "We are going to use python dictionaries to help us learn Chinese and Hindi.\n",
    "\n",
    "Every time we find an interesting english sentence to translate, we use [google translate](https://translate.google.com/) to translate it to hindi and chinese, and we store the translations in a dictionary, keyed by the time we enter the data and a random guid."
   ]
  },
  {
   "cell_type": "code",
   "execution_count": 2,
   "metadata": {},
   "outputs": [],
   "source": [
    "from bson.objectid import ObjectId\n",
    "from datetime import datetime\n",
    "import random"
   ]
  },
  {
   "cell_type": "code",
   "execution_count": 3,
   "metadata": {},
   "outputs": [],
   "source": [
    "random.seed(3)\n",
    "\n",
    "\n",
    "def prefix_crud_timestamp_suffix(key):\n",
    "    # get the first 3 items form key list\n",
    "    prefix = key[:3]\n",
    "    # get the third item form key list\n",
    "    crud = key[3:4]\n",
    "    # way to find negative value in key[:4]\n",
    "    #hyphens = [i for i in range(len(key[:4])) if key[:4].startswith('-', i)]\n",
    "    # find first negative value's index\n",
    "    hyphen1 = key.find('-')\n",
    "    # find negative value's index in key[5:]\n",
    "    hyphen2 = key[5:].find('-')\n",
    "\n",
    "    # get values from first neative value to next(if there's more negative value)\n",
    "    timestamp = key[hyphen1+1:hyphen1+1+hyphen2]\n",
    "    # git rest values\n",
    "    suffix = key[hyphen1+hyphen2+2:]\n",
    "    return prefix, crud, timestamp, suffix #coll, op, time, guid\n",
    "\n",
    "## seconds since midnight, simulate non-contiguous times\n",
    "def ssm():\n",
    "    # gete current time\n",
    "    now = datetime.now()\n",
    "    # set the time with 0:00:00:00\n",
    "    midnight = now.replace(hour=0, minute=0, second=0, microsecond=0)\n",
    "    return str((now - midnight).seconds + random.randint(0, 1000))\n",
    "\n",
    "words = dict()\n",
    "def enter_words(en, zh = None, hi = None):\n",
    "    uid = ('zhon-' if zh != None else 'hind-' if hi != None else 'oops-') + ssm() + '-' + str(ObjectId())\n",
    "    words[uid] = (\n",
    "        dict(english = en, chinese = zh, _id = uid) if zh != None else \n",
    "        dict(english = en, hindi = hi, _id = uid) if hi != None else\n",
    "        dict(_id = uid)\n",
    "    )"
   ]
  },
  {
   "cell_type": "code",
   "execution_count": 4,
   "metadata": {},
   "outputs": [
    {
     "data": {
      "text/plain": [
       "'67049'"
      ]
     },
     "execution_count": 4,
     "metadata": {},
     "output_type": "execute_result"
    }
   ],
   "source": [
    "ssm()"
   ]
  },
  {
   "cell_type": "markdown",
   "metadata": {},
   "source": [
    "Here's the structure of our key for an example translation: The first part is the language, the second part is the time (as an integer counter), the third part is a guid (random string)."
   ]
  },
  {
   "cell_type": "code",
   "execution_count": 5,
   "metadata": {},
   "outputs": [
    {
     "data": {
      "text/plain": [
       "'zhon-67413-65b04cc7a16a6442888ce6ef'"
      ]
     },
     "execution_count": 5,
     "metadata": {},
     "output_type": "execute_result"
    }
   ],
   "source": [
    "en = \"\"\"If a person has not had a chance to acquire his target language by the time he's an adult, \n",
    "he's unlikely to be able to reach native speaker level in that language\"\"\"\n",
    "zh = '如果一個人在成人前沒有機會習得目標語言，他對該語言的認識達到母語者程度的機會是相當小的'\n",
    "('zhon-' if zh != None else 'hind-' if hi != None else 'oops-') + ssm() + '-' + str(ObjectId())"
   ]
  },
  {
   "cell_type": "markdown",
   "metadata": {},
   "source": [
    "We are going to *simulate* the data entering process. I'll give you two files with translations of english sentences, one for chinese, another for hindi (from my NLP class):"
   ]
  },
  {
   "cell_type": "code",
   "execution_count": 6,
   "metadata": {},
   "outputs": [],
   "source": [
    "# read cmn.txt, encoding as utf8\n",
    "file1 = open('data/cmn.txt', 'r', encoding='utf8')\n",
    "lines = file1.readlines()\n",
    "file1.close()\n",
    "\n",
    "for i,l in enumerate(lines):\n",
    "    t2 = l.split('\\t')\n",
    "    # word is t2[0], whtether zh can check t2[1]\n",
    "    enter_words(t2[0][:-1], zh = t2[1][:-1])"
   ]
  },
  {
   "cell_type": "code",
   "execution_count": 7,
   "metadata": {},
   "outputs": [],
   "source": [
    "# read hin.txt, encoding as utf8\n",
    "file1 = open('data/hin.txt', 'r', encoding='utf8')\n",
    "lines = file1.readlines()\n",
    "file1.close()\n",
    "\n",
    "for i,l in enumerate(lines):\n",
    "    t2 = l.split('\\t')\n",
    "    # word is t2[0], whtether hi can check t2[1]\n",
    "    enter_words(t2[0][:-1], hi = t2[1][:-1])"
   ]
  },
  {
   "cell_type": "markdown",
   "metadata": {},
   "source": [
    "Dictionaries *have no built-in ordering*! That means that if you enumerate on dictionary items, they will appear *unordered*:"
   ]
  },
  {
   "cell_type": "code",
   "execution_count": 8,
   "metadata": {},
   "outputs": [
    {
     "name": "stdout",
     "output_type": "stream",
     "text": [
      "[('zhon-67364-65b04cc7a16a6442888ce6f0', {'english': 'Hi', 'chinese': '嗨', '_id': 'zhon-67364-65b04cc7a16a6442888ce6f0'}), ('zhon-66940-65b04cc7a16a6442888ce6f1', {'english': 'Hi', 'chinese': '你好', '_id': 'zhon-66940-65b04cc7a16a6442888ce6f1'}), ('zhon-67185-65b04cc7a16a6442888ce6f2', {'english': 'Run', 'chinese': '你用跑的', '_id': 'zhon-67185-65b04cc7a16a6442888ce6f2'}), ('zhon-67744-65b04cc7a16a6442888ce6f3', {'english': 'Wait', 'chinese': '等等', '_id': 'zhon-67744-65b04cc7a16a6442888ce6f3'}), ('zhon-67425-65b04cc7a16a6442888ce6f4', {'english': 'Wait', 'chinese': '等一下', '_id': 'zhon-67425-65b04cc7a16a6442888ce6f4'}), ('zhon-67292-65b04cc7a16a6442888ce6f5', {'english': 'Hello', 'chinese': '你好', '_id': 'zhon-67292-65b04cc7a16a6442888ce6f5'}), ('zhon-67447-65b04cc7a16a6442888ce6f6', {'english': 'Dino', 'chinese': '迪诺', '_id': 'zhon-67447-65b04cc7a16a6442888ce6f6'}), ('zhon-67401-65b04cc7a16a6442888ce6f7', {'english': 'I try', 'chinese': '让我来', '_id': 'zhon-67401-65b04cc7a16a6442888ce6f7'}), ('zhon-66874-65b04cc7a16a6442888ce6f8', {'english': 'I won', 'chinese': '我赢了', '_id': 'zhon-66874-65b04cc7a16a6442888ce6f8'}), ('zhon-67427-65b04cc7a16a6442888ce6f9', {'english': 'Oh no', 'chinese': '不会吧', '_id': 'zhon-67427-65b04cc7a16a6442888ce6f9'})]\n"
     ]
    }
   ],
   "source": [
    "# u is uid, v is words[u] witch is u'value in dictionary named words\n",
    "print([(u,v) for i,(u,v) in enumerate(words.items()) if i < 10 ])"
   ]
  },
  {
   "cell_type": "markdown",
   "metadata": {},
   "source": [
    "So now I have *one* dictionary for *both* chinese and hindi!\n",
    "\n",
    "Let's separate them into two dictionaries:"
   ]
  },
  {
   "cell_type": "code",
   "execution_count": 9,
   "metadata": {},
   "outputs": [],
   "source": [
    "# new dictionary names separated\n",
    "separated = dict()\n",
    "# dictionary seoarated has 2 keys, one is 'chinese', the other is 'hindi',\n",
    "# below classify these two types of data\n",
    "separated['chinese'] = {k:v for k,v in words.items() if k.startswith('zhon')}\n",
    "separated['hindi'] = {k:v for k,v in words.items() if k.startswith('hind')}"
   ]
  },
  {
   "cell_type": "code",
   "execution_count": 10,
   "metadata": {},
   "outputs": [
    {
     "name": "stdout",
     "output_type": "stream",
     "text": [
      "[('hind-67414-65b04cc8a16a6442888d3d2c', {'english': 'Wow', 'hindi': 'वाह', '_id': 'hind-67414-65b04cc8a16a6442888d3d2c'}), ('hind-67643-65b04cc8a16a6442888d3d2d', {'english': 'Help', 'hindi': 'बचाओ', '_id': 'hind-67643-65b04cc8a16a6442888d3d2d'}), ('hind-67418-65b04cc8a16a6442888d3d2e', {'english': 'Jump', 'hindi': 'उछलो', '_id': 'hind-67418-65b04cc8a16a6442888d3d2e'}), ('hind-67006-65b04cc8a16a6442888d3d2f', {'english': 'Jump', 'hindi': 'कूदो', '_id': 'hind-67006-65b04cc8a16a6442888d3d2f'}), ('hind-66955-65b04cc8a16a6442888d3d30', {'english': 'Jump', 'hindi': 'छलांग', '_id': 'hind-66955-65b04cc8a16a6442888d3d30'}), ('hind-67315-65b04cc8a16a6442888d3d31', {'english': 'Hello', 'hindi': 'नमस्ते', '_id': 'hind-67315-65b04cc8a16a6442888d3d31'}), ('hind-67420-65b04cc8a16a6442888d3d32', {'english': 'Hello', 'hindi': 'नमस्कार', '_id': 'hind-67420-65b04cc8a16a6442888d3d32'}), ('hind-67241-65b04cc8a16a6442888d3d33', {'english': 'Cheers', 'hindi': 'वाह-वाह', '_id': 'hind-67241-65b04cc8a16a6442888d3d33'}), ('hind-67183-65b04cc8a16a6442888d3d34', {'english': 'Cheers', 'hindi': 'चियर्स', '_id': 'hind-67183-65b04cc8a16a6442888d3d34'}), ('hind-67636-65b04cc8a16a6442888d3d35', {'english': 'Got it', 'hindi': 'समझे कि नहीं', '_id': 'hind-67636-65b04cc8a16a6442888d3d35'})]\n"
     ]
    }
   ],
   "source": [
    "print([(u,v) for i,(u,v) in enumerate(separated['hindi'].items()) if i < 10 ])"
   ]
  },
  {
   "cell_type": "markdown",
   "metadata": {},
   "source": [
    "The key has the format `language-time-randomguid` (we simulated `time` by adding a random number to number of seconds since midnight). Suppose I want to be able to practice my sentences every day in the (simulated) order that we saved them, and that every day, I want to be able to *see a specific number of sentences with a time greater than a specific time* (entered as an integer: number of seconds from midnight).\n",
    "\n",
    "- **Question 1 (50 points)**: Given how many sentences I want to see (variable `n`), and a certain time of the day specified as number of seconds past midnight (variable `ssm`) write code that yields *the next `n` (given as input) sentences of both the chinese and hindi dictionaries, past a certain specified `ssm` that represents a time (given as input)*. Structure the result as a **dictionary** with two keys: `chinese` and `hindi`.\n",
    "\n",
    "- **Question 2 (50 points)**: Rewrite your code in Dua Lipa style: In the smallest number of lines of python (e.g. a few!). Line continuations are allowed. For example:\n",
    "```\n",
    "{\n",
    "    'chinese' : {k:v for k,v in .....},\n",
    "    'hindi' : {k:v for k,v in .....},\n",
    "}\n",
    "```\n",
    "counts for one line of code.\n",
    "\n",
    "Time your Dua Lipa code with `%%time`. Shorter times combined with most beautiful Dua Lipa code get best grades :-)"
   ]
  },
  {
   "cell_type": "code",
   "execution_count": 11,
   "metadata": {},
   "outputs": [],
   "source": [
    "# Answer 1"
   ]
  },
  {
   "cell_type": "code",
   "execution_count": 44,
   "metadata": {},
   "outputs": [
    {
     "data": {
      "text/plain": [
       "{'chinese': [('zhon-67364-65b04cc7a16a6442888ce6f0',\n",
       "   {'english': 'Hi',\n",
       "    'chinese': '嗨',\n",
       "    '_id': 'zhon-67364-65b04cc7a16a6442888ce6f0'}),\n",
       "  ('zhon-67185-65b04cc7a16a6442888ce6f2',\n",
       "   {'english': 'Run',\n",
       "    'chinese': '你用跑的',\n",
       "    '_id': 'zhon-67185-65b04cc7a16a6442888ce6f2'}),\n",
       "  ('zhon-67744-65b04cc7a16a6442888ce6f3',\n",
       "   {'english': 'Wait',\n",
       "    'chinese': '等等',\n",
       "    '_id': 'zhon-67744-65b04cc7a16a6442888ce6f3'}),\n",
       "  ('zhon-67425-65b04cc7a16a6442888ce6f4',\n",
       "   {'english': 'Wait',\n",
       "    'chinese': '等一下',\n",
       "    '_id': 'zhon-67425-65b04cc7a16a6442888ce6f4'}),\n",
       "  ('zhon-67292-65b04cc7a16a6442888ce6f5',\n",
       "   {'english': 'Hello',\n",
       "    'chinese': '你好',\n",
       "    '_id': 'zhon-67292-65b04cc7a16a6442888ce6f5'})],\n",
       " 'hindi': [('hind-67414-65b04cc8a16a6442888d3d2c',\n",
       "   {'english': 'Wow',\n",
       "    'hindi': 'वाह',\n",
       "    '_id': 'hind-67414-65b04cc8a16a6442888d3d2c'}),\n",
       "  ('hind-67643-65b04cc8a16a6442888d3d2d',\n",
       "   {'english': 'Help',\n",
       "    'hindi': 'बचाओ',\n",
       "    '_id': 'hind-67643-65b04cc8a16a6442888d3d2d'}),\n",
       "  ('hind-67418-65b04cc8a16a6442888d3d2e',\n",
       "   {'english': 'Jump',\n",
       "    'hindi': 'उछलो',\n",
       "    '_id': 'hind-67418-65b04cc8a16a6442888d3d2e'}),\n",
       "  ('hind-67006-65b04cc8a16a6442888d3d2f',\n",
       "   {'english': 'Jump',\n",
       "    'hindi': 'कूदो',\n",
       "    '_id': 'hind-67006-65b04cc8a16a6442888d3d2f'}),\n",
       "  ('hind-67315-65b04cc8a16a6442888d3d31',\n",
       "   {'english': 'Hello',\n",
       "    'hindi': 'नमस्ते',\n",
       "    '_id': 'hind-67315-65b04cc8a16a6442888d3d31'})]}"
      ]
     },
     "execution_count": 44,
     "metadata": {},
     "output_type": "execute_result"
    }
   ],
   "source": [
    "# Given how many sentences I want to see (variable n), and a \n",
    "# certain time of the day specified as number of seconds past midnight (variable ssm)\n",
    "def generator_dic(dic,n, ssm):\n",
    "    # get sentences from dic, and limited by ssm\n",
    "    zh_sentences = [(k, v) for k, v in dic['chinese'].items() if int(k.split('-')[1]) > ssm][:n]\n",
    "    hi_sentences = [(k, v) for k, v in dic['hindi'].items() if int(k.split('-')[1]) > ssm][:n]\n",
    "    for i in zip(zh_sentences, hi_sentences):\n",
    "        yield i\n",
    "# li store the result generated from generator_dic\n",
    "li = list(generator_dic(separated,5,67000))\n",
    "# result\n",
    "res = {\"chinese\": [i[0] for i in li], \"hindi\": [i[1] for i in li]}\n",
    "res"
   ]
  },
  {
   "cell_type": "code",
   "execution_count": 54,
   "metadata": {},
   "outputs": [
    {
     "data": {
      "text/plain": [
       "{'chinese': [('zhon-67801-65b04cc7a16a6442888ce799',\n",
       "   {'english': \"It's cold\",\n",
       "    'chinese': '天很冷',\n",
       "    '_id': 'zhon-67801-65b04cc7a16a6442888ce799'}),\n",
       "  ('zhon-67803-65b04cc7a16a6442888ce7b6',\n",
       "   {'english': 'Tom swims',\n",
       "    'chinese': 'Tom游泳',\n",
       "    '_id': 'zhon-67803-65b04cc7a16a6442888ce7b6'}),\n",
       "  ('zhon-67801-65b04cc7a16a6442888ce800',\n",
       "   {'english': 'Let him in',\n",
       "    'chinese': '让他进来',\n",
       "    '_id': 'zhon-67801-65b04cc7a16a6442888ce800'}),\n",
       "  ('zhon-67801-65b04cc7a16a6442888ce874',\n",
       "   {'english': 'Money talks',\n",
       "    'chinese': '金钱万能',\n",
       "    '_id': 'zhon-67801-65b04cc7a16a6442888ce874'}),\n",
       "  ('zhon-67802-65b04cc7a16a6442888ce89c',\n",
       "   {'english': \"What's this\",\n",
       "    'chinese': '那是什么',\n",
       "    '_id': 'zhon-67802-65b04cc7a16a6442888ce89c'})],\n",
       " 'hindi': [('hind-67807-65b04cc8a16a6442888d3dd3',\n",
       "   {'english': 'Summer is over',\n",
       "    'hindi': 'गर्मियाँ खतम हों चुकीं हैं',\n",
       "    '_id': 'hind-67807-65b04cc8a16a6442888d3dd3'}),\n",
       "  ('hind-67807-65b04cc8a16a6442888d3dde',\n",
       "   {'english': 'Where were you',\n",
       "    'hindi': 'तुम कहाँ थे',\n",
       "    '_id': 'hind-67807-65b04cc8a16a6442888d3dde'}),\n",
       "  ('hind-67801-65b04cc8a16a6442888d3f01',\n",
       "   {'english': \"I'd like a city map\",\n",
       "    'hindi': 'मुझे शहर का नक्शा चाहिए',\n",
       "    '_id': 'hind-67801-65b04cc8a16a6442888d3f01'}),\n",
       "  ('hind-67803-65b04cc8a16a6442888d3f37',\n",
       "   {'english': 'He lent me two books',\n",
       "    'hindi': 'उसने मुझे दो किताबें उधार दीं',\n",
       "    '_id': 'hind-67803-65b04cc8a16a6442888d3f37'}),\n",
       "  ('hind-67808-65b04cc8a16a6442888d4083',\n",
       "   {'english': 'Turn your face this way',\n",
       "    'hindi': 'अपना मूँह इस तरफ़ मोड़ो',\n",
       "    '_id': 'hind-67808-65b04cc8a16a6442888d4083'})]}"
      ]
     },
     "execution_count": 54,
     "metadata": {},
     "output_type": "execute_result"
    }
   ],
   "source": [
    "import time\n",
    "# start time\n",
    "start_time = time.time()\n",
    "# rewritten code in Dua Lipa style\n",
    "res_1 = {lang: [sentence[i] for sentence in (lambda dic, n, ssm: zip(\n",
    "    [(k, v) for k, v in dic['chinese'].items() if int(k.split('-')[1]) > ssm][:n],\n",
    "    [(k, v) for k, v in dic['hindi'].items() if int(k.split('-')[1]) > ssm][:n]\n",
    "))(separated, 5, 67800)] for i, lang in enumerate([\"chinese\", \"hindi\"])}\n",
    "# end time\n",
    "end_time = time.time()\n",
    "# get excution time \n",
    "execution_time = end_time - start_time\n",
    "res_1"
   ]
  },
  {
   "cell_type": "code",
   "execution_count": 55,
   "metadata": {},
   "outputs": [
    {
     "name": "stdout",
     "output_type": "stream",
     "text": [
      "The excution time is:  0.022030115127563477\n"
     ]
    }
   ],
   "source": [
    "print(\"The excution time is: \", execution_time)"
   ]
  }
 ],
 "metadata": {
  "kernelspec": {
   "display_name": "Python 3 (ipykernel)",
   "language": "python",
   "name": "python3"
  },
  "language_info": {
   "codemirror_mode": {
    "name": "ipython",
    "version": 3
   },
   "file_extension": ".py",
   "mimetype": "text/x-python",
   "name": "python",
   "nbconvert_exporter": "python",
   "pygments_lexer": "ipython3",
   "version": "3.11.0"
  }
 },
 "nbformat": 4,
 "nbformat_minor": 4
}
